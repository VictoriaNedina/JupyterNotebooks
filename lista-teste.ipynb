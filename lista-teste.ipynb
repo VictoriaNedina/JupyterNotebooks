{
 "cells": [
  {
   "cell_type": "markdown",
   "metadata": {},
   "source": [
    "<font size=4>\n",
    "<h1>Exercício teste</h1>\n",
    "\n",
    "</font>"
   ]
  },
  {
   "cell_type": "markdown",
   "metadata": {},
   "source": [
    "<h2>Questão 1</h2>\n",
    "<p>Faça um programa que imprima seu nome em uma linha e seu RA na linha seguinte.</p>\n",
    "\n",
    "<p><b>Entrada:</b> O programa não recebe nenhuma entrada.</p>\n",
    "\n",
    "<p><b>Saída:</b> A resposta consiste de duas linhas. A primeira deve conter seu nome. A segunda linha deve conter seu RA.</p>"
   ]
  },
  {
   "cell_type": "code",
   "execution_count": null,
   "metadata": {},
   "outputs": [],
   "source": []
  }
 ],
 "metadata": {
  "kernelspec": {
   "display_name": "Python 3",
   "language": "python",
   "name": "python3"
  },
  "language_info": {
   "codemirror_mode": {
    "name": "ipython",
    "version": 3
   },
   "file_extension": ".py",
   "mimetype": "text/x-python",
   "name": "python",
   "nbconvert_exporter": "python",
   "pygments_lexer": "ipython3",
   "version": "3.5.2"
  },
  "widgets": {
   "state": {},
   "version": "1.1.2"
  }
 },
 "nbformat": 4,
 "nbformat_minor": 1
}
