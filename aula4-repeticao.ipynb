{
 "cells": [
  {
   "cell_type": "markdown",
   "metadata": {},
   "source": [
    "# Introdução à programação em Python: comandos de repetição\n",
    "\n",
    "Neste notebook você vai aprender como fazer para executar um trecho do seu programa várias vezes.\n",
    "\n",
    "Isso é muito útil quando o problema que estamos tentando resolver envolve tarefas repetitivas!"
   ]
  },
  {
   "cell_type": "markdown",
   "metadata": {},
   "source": [
    "-----\n",
    "\n",
    "## Tarefas repetidas\n",
    "\n",
    "Vamos começar com um exemplo simples: suponha que você queira imprimir os números de **1** a **5**.\n",
    "\n",
    "Já vimos como fazer isso com uma lista:"
   ]
  },
  {
   "cell_type": "code",
   "execution_count": null,
   "metadata": {},
   "outputs": [],
   "source": [
    "print(list(range(1,6)))"
   ]
  },
  {
   "cell_type": "markdown",
   "metadata": {},
   "source": [
    "E se quisermos imprimir um número por linha?\n",
    "\n",
    "Nesse caso, você poderia fazer o seguinte:"
   ]
  },
  {
   "cell_type": "code",
   "execution_count": null,
   "metadata": {},
   "outputs": [],
   "source": [
    "print(1)\n",
    "print(2)\n",
    "print(3)\n",
    "print(4)\n",
    "print(5)"
   ]
  },
  {
   "cell_type": "markdown",
   "metadata": {},
   "source": [
    "E se você quisesse imprimir os números de **1** a **100**, um por linha?\n",
    "\n",
    "Tudo bem, imprimir os números de **1** a **100** com um monte de linhas `print()` é muito tedioso, mas também é factível.\n",
    "\n",
    "O problema complica mesmo se você quisesse imprimir os números de **1** a <b>$n$</b>, onde $n$ é um número que você obteve do usuário através de uma chamada do `input()`.\n",
    "\n",
    "Isso não seria nem chato nem tedioso, seria impossível!\n",
    "\n",
    "Para lidar com esse tipo de situação que exige repetição de tarefas, as linguagens de programação possuem estruturas de repetição (ou laços), como os comandos **`for`** e **`while`**.\n",
    "\n",
    "Veja a seguir como você pode fazer para imprimir os números de 1 a 5 com o comando **`for`**:"
   ]
  },
  {
   "cell_type": "code",
   "execution_count": null,
   "metadata": {},
   "outputs": [],
   "source": [
    "for n in [1, 2, 3, 4, 5]:\n",
    "    print(n)"
   ]
  },
  {
   "cell_type": "code",
   "execution_count": null,
   "metadata": {},
   "outputs": [],
   "source": [
    "for n in range(1,6):\n",
    "    print(n)"
   ]
  },
  {
   "cell_type": "markdown",
   "metadata": {},
   "source": [
    "#### O que ambos os códigos acima estão fazendo?\n",
    "    \n",
    "Eles estão **iterando** sobre os valores da lista: para cada valor distinto que está na lista, a variável `n` assume um desses valores. O corpo do laço está apenas mandando imprimir o valor que está nessa variável."
   ]
  },
  {
   "cell_type": "markdown",
   "metadata": {},
   "source": [
    "Laços do tipo **`for`** em Python servem precisamente para isso: iterar em elementos de uma lista.\n",
    "\n",
    "Já vimos que listas podem armazenar qualquer tipo de valor. Assim, podemos ter o seguinte tipo de construção:"
   ]
  },
  {
   "cell_type": "code",
   "execution_count": null,
   "metadata": {},
   "outputs": [],
   "source": [
    "for e in ['gato', 'cachorro', True, 34]:\n",
    "    print(e)"
   ]
  },
  {
   "cell_type": "markdown",
   "metadata": {},
   "source": [
    "Podemos também interagir com o usuário:"
   ]
  },
  {
   "cell_type": "code",
   "execution_count": null,
   "metadata": {},
   "outputs": [],
   "source": [
    "limite = int(input(\"Digite um número maior do que 1: \"))\n",
    "for n in range(1, limite + 1):\n",
    "    print(n)"
   ]
  },
  {
   "cell_type": "markdown",
   "metadata": {},
   "source": [
    "#### Faça você mesmo!\n",
    "\n",
    "Modifique o código acima para que ele também peça o número inicial para o usuário. Execute uma vez de modo que ele imprima os números de **10** a **50**."
   ]
  },
  {
   "cell_type": "markdown",
   "metadata": {},
   "source": [
    "## O comando **`for`**\n",
    "\n",
    "Como você já deve ter percebido, o comando **`for`** faz com que uma variável receba, repetidamente, valores de uma dada lista e, para cada um desses valores, executa o bloco de código indentado logo abaixo dele.\n",
    "\n",
    "A estrutura do comando **`for`** é a seguinte:\n",
    "```\n",
    "for variável in lista:\n",
    "    comando\n",
    "    comando\n",
    "    etc.\n",
    "restante do programa\n",
    "```\n",
    "\n",
    "Assim como no comando **`if`**, a primeira linha de código não indentada depois do comando marca o fim do bloco de código associado."
   ]
  },
  {
   "cell_type": "markdown",
   "metadata": {},
   "source": [
    "#### Exemplo\n",
    "\n",
    "Suponha que queremos calcular a soma dos números de $1$ a $n$.\n",
    "\n",
    "Por exemplo, se $n = 5$, queremos calcular $1 + 2 + 3 + 4 + 5 = 15$.\n",
    "\n",
    "Na verdade, existe uma fórmula fechada para essa soma, mas suponha que queremos fazer isso usando o comando **`for`**:"
   ]
  },
  {
   "cell_type": "code",
   "execution_count": null,
   "metadata": {},
   "outputs": [],
   "source": [
    "n = int(input(\"Digite o valor de n: \"))\n",
    "total = 0\n",
    "for i in range(1, n + 1):\n",
    "    total = total + i\n",
    "print(total)"
   ]
  },
  {
   "cell_type": "markdown",
   "metadata": {},
   "source": [
    "> **Atenção**: Por que a segunda linha do código acima é `total = 0`?"
   ]
  },
  {
   "cell_type": "markdown",
   "metadata": {},
   "source": [
    "#### Faça você mesmo!\n",
    "\n",
    "Modifique o código abaixo para calcular a soma dos quadrados dos números de $1$ até $n$. Ou seja, quando o usuário digitar um número $n$, o programa deverá mostrar a soma\n",
    "$$1^2 + 2^2 + 3^2 + \\cdots + n^2.$$"
   ]
  },
  {
   "cell_type": "code",
   "execution_count": null,
   "metadata": {},
   "outputs": [],
   "source": [
    "n = int(input(\"Digite o valor de n: \"))\n",
    "total = 0\n",
    "for i in range(1, n + 1):\n",
    "    total = total + i\n",
    "print(total)"
   ]
  },
  {
   "cell_type": "markdown",
   "metadata": {},
   "source": [
    "#### Exemplo\n",
    "\n",
    "Também podemos um laço do tipo `for` em Python quando queremos realizar um bloco de comandos um certo número $n$ de vezes.\n",
    "\n",
    "Para isso, podemos iterar sobre uma lista que tenha tamanho $n$."
   ]
  },
  {
   "cell_type": "code",
   "execution_count": null,
   "metadata": {},
   "outputs": [],
   "source": [
    "n = int(input(\"Digite a quantidade de repetições desejadas: \"))\n",
    "for i in range(n):\n",
    "    print(\"Hello world\")"
   ]
  },
  {
   "cell_type": "markdown",
   "metadata": {},
   "source": [
    "Note que não importa qual o valor de `i` em cada iteração (apesar de que sabemos que ele assumirá valores `0`, `1`, ..., `n-1`), apenas importa que ele assume `n` valores diferentes, que é a quantidade de vezes que queremos repetir os comandos."
   ]
  },
  {
   "cell_type": "markdown",
   "metadata": {},
   "source": [
    "#### Exemplo\n",
    "\n",
    "O código a seguir pede que o usuário digite o número de vendas e um valor para cada venda. Depois, o programa calcula e imprime o valor total das vendas."
   ]
  },
  {
   "cell_type": "code",
   "execution_count": null,
   "metadata": {},
   "outputs": [],
   "source": [
    "n = int(input(\"Qual o número de vendas? \"))\n",
    "total = 0.0\n",
    "for i in range(n):\n",
    "    valor = float(input(\"Qual o valor da venda? \"))\n",
    "    total = total + valor\n",
    "print(\"A total das vendas é:\", total)"
   ]
  },
  {
   "cell_type": "markdown",
   "metadata": {},
   "source": [
    "#### Faça você mesmo!\n",
    "\n",
    "Modifique o código acima de modo que, além do valor total das vendas, o programa imprima também o valor médio das vendas."
   ]
  },
  {
   "cell_type": "markdown",
   "metadata": {},
   "source": [
    "### Importante\n",
    "\n",
    "Assim como nos comandos `if`, um bloco de comandos ligados a um comando `for` podem conter quaisquer um dos comandos que vimos até agora, incluindo outros comandos `for`.\n",
    "\n",
    "No exemplo a seguir, queremos contar quantos números digitados pelo usuário são pares."
   ]
  },
  {
   "cell_type": "code",
   "execution_count": null,
   "metadata": {},
   "outputs": [],
   "source": [
    "n = int(input(\"Digite a quantidade total de números: \"))\n",
    "qtd_pares = 0\n",
    "for i in range(n):\n",
    "    novo_numero = int(input(\"Digite um número da sequência: \"))\n",
    "    if novo_numero % 2 == 0:\n",
    "        qtd_pares = qtd_pares + 1\n",
    "print(\"A quantidade total de números pares foi\", qtd_pares)"
   ]
  },
  {
   "cell_type": "markdown",
   "metadata": {},
   "source": [
    "#### Faça você mesmo!\n",
    "\n",
    "Modifique o código abaixo de modo que, toda vez que o usuário digitar uma venda de valor maior do que 100, o programa mostre **naquele mesmo momento** uma mensagem de parabéns para o vendedor.\n",
    "\n",
    "Faça com que seu programa conte quantas vendas ultrapassaram R$ 100 e, no final, imprima uma mensagem informando essa quantidade."
   ]
  },
  {
   "cell_type": "code",
   "execution_count": null,
   "metadata": {},
   "outputs": [],
   "source": [
    "n = int(input(\"Qual o número de vendas? \"))\n",
    "total = 0.0\n",
    "for i in range(n):\n",
    "    valor = float(input(\"Qual o valor da venda? \"))\n",
    "    total = total + valor\n",
    "print(\"A total das vendas é:\", total)"
   ]
  },
  {
   "cell_type": "markdown",
   "metadata": {},
   "source": [
    "## O comando while\n",
    "\n",
    "Agora vamos ver um outro comando para fazer repetições.\n",
    "\n",
    "O nome desse comando é **`while`**, que quer dizer _enquanto_ em português.\n",
    "\n",
    "Vejamos um exemplo."
   ]
  },
  {
   "cell_type": "code",
   "execution_count": null,
   "metadata": {},
   "outputs": [],
   "source": [
    "n = 1               \n",
    "while n <= 5:       \n",
    "    print(n)       \n",
    "    n = n + 1      "
   ]
  },
  {
   "cell_type": "markdown",
   "metadata": {},
   "source": [
    "#### O que exatamente o nosso código está fazendo?\n",
    "\n",
    "O primeiro passo é colocar o valor 1 em uma variável de nome `n`. O segundo passo é verificar a condição `n <= 5`. Se essa condição for verdadeira (e, no caso, é), então o conteúdo indentado logo abaixo do comando é executado.\n",
    "\n",
    "No conjunto de comandos, temos a impressão do valor de `n` seguida do aumento no valor de `n` em uma unidade. O próximo passo do programa é verificar novamente a condição `n <= 5`.\n",
    "\n",
    "Novamente, se a condição for verdadeira, o conteúdo indentado logo abaixo do comando while é executado.\n",
    "\n",
    "Essa repetição se mantém até o primeiro momento em que a condição fique falsa. Nesse caso, quando `n` armazena o valor 6 a condição `n <= 5` fica falsa.\n",
    "\n",
    "Quando a condição do while fica falsa, o conteúdo indentado logo abaixo dele não é mais executado e o programa segue para o próximo comando não indentado."
   ]
  },
  {
   "cell_type": "markdown",
   "metadata": {},
   "source": [
    "-----\n",
    "\n",
    "O comando **`while`** tem sempre a seguinte estrutura:\n",
    "```\n",
    "while condição:\n",
    "    código indentado\n",
    "    código indentado\n",
    "    etc.\n",
    "restante do programa\n",
    "```\n",
    "\n",
    "Observe que o comando **`while`** tem uma condição e um bloco de código associado que deve vir _indentado_.\n",
    "\n",
    "No nosso exemplo acima, a condição é `n <= 5` e o bloco de código é\n",
    "```\n",
    "print(n)       \n",
    "n = n + 1\n",
    "```\n",
    "\n",
    "O comando **`while`** executa o bloco de código indentado enquanto a condição dada for verdadeira."
   ]
  },
  {
   "cell_type": "markdown",
   "metadata": {},
   "source": [
    "#### Faça você mesmo!\n",
    "\n",
    "Modifique o código acima para que ele imprima os números de **10 a 50**."
   ]
  },
  {
   "cell_type": "markdown",
   "metadata": {},
   "source": [
    "**Atenção:** sempre tome muito cuidado quando você for usar o comando **`while`** pois, se acontecer da condição ser sempre verdadeira, seu programa irá **_entrar em loop infinito_**, ou seja, ele ficará rodando \"para sempre\" e irá travar o kernel do Python!"
   ]
  },
  {
   "cell_type": "markdown",
   "metadata": {},
   "source": [
    "#### Faça você mesmo!\n",
    "\n",
    "O código a seguir imprime os números de 1 a 10. Modifique **apenas** o bloco de código do  **`while`** de modo que ele imprima o seguinte:\n",
    "```\n",
    "1 é ímpar\n",
    "2 é par \n",
    "3 é ímpar\n",
    "4 é par \n",
    "5 é ímpar\n",
    "etc. (até 10)\n",
    "```\n",
    "\n",
    "**Dica:** use o comando **`if`** dentro do bloco de código do **`while`**."
   ]
  },
  {
   "cell_type": "code",
   "execution_count": null,
   "metadata": {},
   "outputs": [],
   "source": [
    "n = 1 \n",
    "while n <= 10: \n",
    "    print(n)\n",
    "    n = n + 1 "
   ]
  },
  {
   "cell_type": "markdown",
   "metadata": {},
   "source": [
    "-----\n",
    "\n",
    "O **`while`** é usado no lugar do **`for`** quando não sabemos quantas vezes devemos repetir um bloco de código.\n",
    "\n",
    "Suponha novamente que queremos saber quantos números pares o usuário digitou, mas que dessa vez ele não sabe quantos números vai digitar.\n",
    "\n",
    "Dessa vez, vamos pedir para o usuário digitar a palavra \"fim\" quando ele quiser parar de digitar números.\n",
    "\n",
    "Veja a solução a seguir."
   ]
  },
  {
   "cell_type": "code",
   "execution_count": null,
   "metadata": {},
   "outputs": [],
   "source": [
    "qtd_pares = 0\n",
    "# É possível (talvez improvável) que o usuário não queira digitar número nenhum\n",
    "# Assim, ele pode digitar a palavra fim logo no início\n",
    "dado = input(\"Digite um número da sequência ou a palavra 'fim': \")\n",
    "# Se o que ele digitou não for a palavra fim, então executaremos o laço para pedir novos números\n",
    "# Esse laço vai executar enquanto o usuário não digitar a palavra \"fim\"\n",
    "while dado != \"fim\":\n",
    "    # Se o programa está aqui dentro do laço, é porque a variável \"dado\" não tem a palavra fim\n",
    "    # Ou seja, ela tem um número\n",
    "    novo_numero = int(dado)\n",
    "    # e agora podemos testar se esse número é par ou não\n",
    "    if novo_numero % 2 == 0:\n",
    "        qtd_pares = qtd_pares + 1\n",
    "    # Agora precisamos pedir por uma nova informação do usuário\n",
    "    dado = input(\"Digite um número da sequência ou a palavra 'fim': \")\n",
    "        \n",
    "print(\"A quantidade total de números pares foi\", qtd_pares)"
   ]
  },
  {
   "cell_type": "markdown",
   "metadata": {},
   "source": [
    "-----\n",
    "\n",
    "O código abaixo imprime \"SENHA CORRETA\" se o usuário digita 1234 e \"SENHA INCORRETA\" se o usuário digita qualquer outro número.\n",
    "\n",
    "Note como ele fica executando até o usuário acertar a senha!"
   ]
  },
  {
   "cell_type": "code",
   "execution_count": null,
   "metadata": {},
   "outputs": [],
   "source": [
    "senha_estah_errada = True\n",
    "while senha_estah_errada:\n",
    "    senha = int(input(\"Digite a sua senha numérica: \"))\n",
    "    if senha == 1234:\n",
    "        print(\"SENHA CORRETA\")\n",
    "        senha_estah_errada = False \n",
    "    else: \n",
    "        print(\"SENHA INCORRETA\")"
   ]
  },
  {
   "cell_type": "markdown",
   "metadata": {},
   "source": [
    "Note que o mesmo comportamento pode ser replicado colocando-se a linha `print(\"SENHA CORRETA\")` para fora do bloco de código do **`while`** como feito abaixo."
   ]
  },
  {
   "cell_type": "code",
   "execution_count": null,
   "metadata": {},
   "outputs": [],
   "source": [
    "senha_estah_errada = True\n",
    "while senha_estah_errada:\n",
    "    senha = int(input(\"Digite a sua senha numérica: \"))\n",
    "    if senha == 1234:\n",
    "        senha_estah_errada = False \n",
    "    else: \n",
    "        print(\"SENHA INCORRETA\")\n",
    "print(\"SENHA CORRETA\")"
   ]
  },
  {
   "cell_type": "markdown",
   "metadata": {},
   "source": [
    "#### Faça você mesmo!\n",
    "\n",
    "Modifique o código acima de modo que ele permita no máximo 3 tentativas para acertar a senha.\n",
    "\n",
    "**Dica:** use uma variável para contar quantas tentativas foram feitas!"
   ]
  },
  {
   "cell_type": "markdown",
   "metadata": {},
   "source": [
    "-----\n",
    "\n",
    "## Mais exemplos\n",
    "\n",
    "Os divisores de um número $n$ são todos os números entre $1$ e $n$ que dividem $n$ de forma exata (sem resto).\n",
    "    \n",
    "Para descobrir quais são os divisores de $n$, portanto, precisamos de um laço que, a cada iteração, assuma um valor diferente entre $1$ e $n$ e teste se esse valor é divisor de $n$."
   ]
  },
  {
   "cell_type": "code",
   "execution_count": null,
   "metadata": {},
   "outputs": [],
   "source": [
    "n = int(input(\"Digite um valor para n: \"))\n",
    "for i in range(1, n+1):\n",
    "    if n % i == 0:\n",
    "        print(i, \"é um divisor de\", n)"
   ]
  },
  {
   "cell_type": "markdown",
   "metadata": {},
   "source": [
    "-----\n",
    "\n",
    "Outro problema interessante é descobrir qual é o maior elemento dentre vários que foram digitados pelo usuário.\n",
    "\n",
    "Na aula anterior vimos como fazer isso quando o usuário digita 2 ou 3 números: com `if..elif..else` e algumas comparações já tínhamos a resposta.\n",
    "\n",
    "Mas quando o usuário entra com um valor desconhecido de números ($n$ números), o problema fica mais complicado, pois mesmo que você soubesse qual é o valor de $n$, as comparações seriam muitas!\n",
    "\n",
    "Uma boa ideia para resolver esse problema é a seguinte: vamos manter qual é o maior número dentre os números já lidos. Por exemplo, se o usuário já digitou a sequência de números $3,7,2,6,-3,8,1,4$, então o maior lido até o momento é o 8. Quando o usuário digitar um novo número $x$, temos apenas duas possibilidades: $x$ é maior do que 8 ou não, isto é, o novo número lido pode ser ou não maior do que o maior número que foi lido até o momento. Se $x > 8$, então certamente $x$ é maior do que qualquer outro número na sequência (não é necessário comparar $x$ com todos os números da sequência para decidir isso). Note então que basta duas comparações para corretamente manter o maior número.\n",
    "\n",
    "Veja a solução a seguir."
   ]
  },
  {
   "cell_type": "code",
   "execution_count": null,
   "metadata": {},
   "outputs": [],
   "source": [
    "n = int(input(\"Digite a quantidade de números que serão fornecidos: \"))\n",
    "# não sabemos quais números serão fornecidos (podem ser negativos ou positivos)\n",
    "# então vamos assumir que o primeiro desses números é o maior\n",
    "maior = int(input(\"Digite um novo número: \"))\n",
    "\n",
    "# o laço a seguir se repete n-1 vezes pois já lemos um dos números\n",
    "# note como o valor que i assume em cada iteração não é importante\n",
    "for i in range(n-1):\n",
    "    valor = int(input(\"Digite um novo número: \"))\n",
    "    # esse novo valor que foi fornecido pode ser maior do que o que estávamos considerando como maior antes\n",
    "    # então atualizamos o valor da variável para armazenar corretamente o maior de todos\n",
    "    if valor > maior:\n",
    "        maior = valor\n",
    "        \n",
    "# apenas depois que todos os n números foram fornecidos é que temos certeza de qual é o maior\n",
    "# por isso esse comando está fora do bloco do laço for\n",
    "print(\"O maior valor fornecido foi\", maior)"
   ]
  },
  {
   "cell_type": "markdown",
   "metadata": {},
   "source": [
    "-----\n",
    "\n",
    "O logaritmo de um número é o expoente a que outro valor fixo, a base, deve ser elevado para produzir este número. Por exemplo, o logaritmo de $1000$ na base $10$ é $3$ porque $10$ ao cubo é $1000$ ($1000 = 10 \\times 10 \\times 10 = 10^3$). De maneira geral, para quaisquer dois números reais $b$ e $x$, onde $b$ é positivo e $b \\neq 1$, $$y=b^{x}\\Leftrightarrow x=\\log_{b}(y).$$\n",
    "\n",
    "Uma definição equivalente é a seguinte. O logaritmo de um número $y$ na base $b$ é no máximo a quantidade de vezes que $y$ pode ser dividido por $b$ até atingir um valor menor do que 1.\n",
    "\n",
    "Por exemplo, o logaritmo de $9$ na base $2$ é no máximo $4$, pois $9/2 = 4.5$, $4.5/2 = 2.25$, $2.25/2 = 1.125$ e $1.125/2 = 0.5625$."
   ]
  },
  {
   "cell_type": "code",
   "execution_count": null,
   "metadata": {},
   "outputs": [],
   "source": [
    "y = int(input(\"Digite o número para o qual deseja calcular o logaritmo: \"))\n",
    "b = int(input(\"Digite a base do logaritmo: \"))\n",
    "\n",
    "log = 0\n",
    "while y > 1:\n",
    "    y = y/b\n",
    "    log = log + 1\n",
    "    \n",
    "print(\"O logaritmo é no máximo\", log)"
   ]
  },
  {
   "cell_type": "markdown",
   "metadata": {},
   "source": [
    "Note que no código anterior o valor de `y` era constantemente atualizado, de forma que nós \"perdemos\" o valor inicial.\n",
    "    \n",
    "Caso a mensagem final precisasse mostrar esse valor, não seria possível. Podemos corrigir isso usando uma nova variável para guardar o valor inicial de `y`."
   ]
  },
  {
   "cell_type": "code",
   "execution_count": null,
   "metadata": {},
   "outputs": [],
   "source": [
    "y = int(input(\"Digite o número para o qual deseja calcular o logaritmo: \"))\n",
    "b = int(input(\"Digite a base do logaritmo: \"))\n",
    "\n",
    "auxy = y\n",
    "log = 0\n",
    "while y > 1:\n",
    "    y = y/b\n",
    "    log = log + 1\n",
    "    \n",
    "print(\"O logaritmo de\", auxy, \"na base\", b, \"é no máximo\", log)"
   ]
  },
  {
   "cell_type": "markdown",
   "metadata": {},
   "source": [
    "-----\n",
    "\n",
    "Suponha agora que queremos encontrar todas soluções para a equação $x_1 + x_2 = C$, onde $C$ é algum valor fornecido pelo usuário.\n",
    "\n",
    "Vamos assumir que $x_1 \\geq 0$ e $x_2 \\geq 0$ são ambas variáveis inteiras.\n",
    "\n",
    "Por exemplo, se $C = 3$, então todas as soluções possíveis são:\n",
    "\n",
    "| $x_1$ | $x_2$ | \n",
    "|-------|-------|\n",
    "| 0     |  3    |\n",
    "| 1     |  2    |\n",
    "| 2     |  1    |\n",
    "| 3     |  0    |\n",
    "\n",
    "Note como o valor máximo que tanto $x_1$ quanto $x_2$ podem assumir é $C$."
   ]
  },
  {
   "cell_type": "code",
   "execution_count": null,
   "metadata": {},
   "outputs": [],
   "source": [
    "C = int(input(\"Digite o valor de C: \"))\n",
    "for x1 in range(C+1): # x1 pode assumir valores entre 0 e C\n",
    "    # para cada valor que x1 assume, devemos testar todos os valores possíveis de x2\n",
    "    for x2 in range(C+1): # x2 também pode assumir valores entre 0 e C\n",
    "        # agora que temos um valor para x1 e outro para x2, verificamos se eles somam C\n",
    "        if x1 + x2 == C:\n",
    "            print(\"Solução possível: x1 =\", x1, \"e x2 = \", x2)"
   ]
  },
  {
   "cell_type": "markdown",
   "metadata": {},
   "source": [
    "E se a equação fosse $x_1 + x_2 + x_3 = C$?"
   ]
  },
  {
   "cell_type": "code",
   "execution_count": null,
   "metadata": {},
   "outputs": [],
   "source": [
    "C = int(input(\"Digite o valor de C: \"))\n",
    "for x1 in range(C+1):\n",
    "    for x2 in range(C+1):\n",
    "        for x3 in range(C+1):\n",
    "            if x1 + x2 + x3 == C:\n",
    "                print(\"Solução possível: x1 = \", x1, \", x2 = \", x2, \"e x3 = \", x3)"
   ]
  },
  {
   "cell_type": "markdown",
   "metadata": {},
   "source": [
    "Note que, na equação $x_1 + x_2 = C$, quando temos um valor de $x_1$, então $x_2$ pode ser unicamente determinado: $x_2$ é $C - x_1$.\n",
    "\n",
    "Similarmente, na equação $x_1 + x_2 + x_3 = C$, quando temos um valor de $x_1$ e um valor de $x_2$, então $x_3$ pode ser unicamente determinado: $x_3$ é $C - x_1 - x_2$.\n",
    "\n",
    "Volte aos códigos acima e melhore-os levando em consideração essas novas informações."
   ]
  }
 ],
 "metadata": {
  "anaconda-cloud": {},
  "kernelspec": {
   "display_name": "Python 3",
   "language": "python",
   "name": "python3"
  },
  "language_info": {
   "codemirror_mode": {
    "name": "ipython",
    "version": 3
   },
   "file_extension": ".py",
   "mimetype": "text/x-python",
   "name": "python",
   "nbconvert_exporter": "python",
   "pygments_lexer": "ipython3",
   "version": "3.5.2"
  }
 },
 "nbformat": 4,
 "nbformat_minor": 1
}
