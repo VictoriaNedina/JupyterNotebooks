{
 "cells": [
  {
   "cell_type": "markdown",
   "metadata": {},
   "source": [
    "# Introdução à programação em Python: comandos condicionais\n",
    "\n",
    "Você já teve contato com alguns elementos de programação em Python.\n",
    "\n",
    "Você fez alguns programas que trocam mensagens com o usuário e fazem cálculos básicos.\n",
    "\n",
    "Porém, até agora, seus programas não conseguem tomar rumos diferentes de acordo com a informação recebida: uma linha é executada depois da outra **sempre**.\n",
    "\n",
    "Neste notebook, você vai aprender a tomar decisões sobre executar algum trecho de código ou não.\n",
    "\n",
    "Comandos condicionais servem para isso: testam se uma condição é verdadeira ou falsa e então decidem quais ações tomar.\n",
    "\n",
    "Começaremos vendo quais tipos de condições esses comandos podem testar.\n",
    "\n",
    "Lembre-se que para executar uma célula de código, basta clicar nela e digitar `SHIFT+ENTER`.\n",
    "\n",
    "-----\n",
    "\n",
    "## Comparações numéricas\n",
    "\n",
    "As condições mais simples são as que comparam números, por exemplo:"
   ]
  },
  {
   "cell_type": "code",
   "execution_count": null,
   "metadata": {},
   "outputs": [],
   "source": [
    "print(2 > 5)"
   ]
  },
  {
   "cell_type": "markdown",
   "metadata": {},
   "source": [
    "A condição anterior vale **`False`** (falso), pois 2 **não é** maior do que 5.\n",
    "\n",
    "A condição seguinte é **`True`** (verdadeiro), pois 3 é igual a 3:"
   ]
  },
  {
   "cell_type": "code",
   "execution_count": null,
   "metadata": {},
   "outputs": [],
   "source": [
    "print(3 >= 3)"
   ]
  },
  {
   "cell_type": "markdown",
   "metadata": {},
   "source": [
    "### Comparadores numéricos de Python\n",
    "\n",
    "Na tabela abaixo estão todos os operadores de comparação:\n",
    "\n",
    "| operador | significado      | \n",
    "|:--------:|------------------|\n",
    "|     `==` | igual a          |\n",
    "|     `!=` | diferente de     |\n",
    "|      `>` | maior que        |\n",
    "|      `<` | menor que        |\n",
    "|     `>=` | maior ou igual a |\n",
    "|     `<=` | menor ou igual a |\n",
    "\n",
    "E a seguir você pode ver alguns exemplos com todos eles.\n",
    "\n",
    "Analise cada exemplo e entenda bem o resultado que foi impresso."
   ]
  },
  {
   "cell_type": "code",
   "execution_count": null,
   "metadata": {},
   "outputs": [],
   "source": [
    "print(\"5 é igual a 5?\", 5 == 5)\n",
    "print(\"3 é igual a 5?\", 3 == 5)\n",
    "print(\"5 é igual a 5.0?\", 5 == 5.0)\n",
    "print(\"5 é igual a 5.0001?\", 5 == 5.0001)\n",
    "print(\"'carla' é igual a 'carla'?\", \"carla\" == \"carla\")\n",
    "print(\"'carla' é igual a 'Carla'?\", \"carla\" == \"Carla\")\n",
    "print(\"'5' é igual a 5?\", \"5\" == 5)\n",
    "print(\"int('5') é igual a 5?\", int(\"5\") == 5)"
   ]
  },
  {
   "cell_type": "code",
   "execution_count": null,
   "metadata": {},
   "outputs": [],
   "source": [
    "print(\"5 é diferente de 5?\", 5 == 5)\n",
    "print(\"3 é diferente de 5?\", 3 == 5)\n",
    "print(\"5 é diferente de 5.0?\", 5 == 5.0)\n",
    "print(\"5 é diferente de 5.0001?\", 5 == 5.0001)\n",
    "print(\"'carla' é diferente de 'carla'?\", \"carla\" == \"carla\")\n",
    "print(\"'carla' é diferente de 'Carla'?\", \"carla\" == \"Carla\")\n",
    "print(\"'5' é diferente de 5?\", \"5\" == 5)\n",
    "print(\"int('5') é diferente de 5?\", int(\"5\") == 5)"
   ]
  },
  {
   "cell_type": "code",
   "execution_count": null,
   "metadata": {},
   "outputs": [],
   "source": [
    "print(\"5 é maior do que 3?\", 5 > 3)\n",
    "print(\"5 é maior ou igual a 3?\", 5 >= 3)\n",
    "print(\"5 é maior do que 5?\", 5 > 5)\n",
    "print(\"5 é maior ou igual a 5?\", 5 >= 5)\n",
    "print(\"5 é menor do que 3?\", 5 < 3)\n",
    "print(\"5 é menor ou igual a 3?\", 5 <= 3)\n",
    "print(\"5 é menor do que 5?\", 5 < 5)\n",
    "print(\"5 é menor ou igual a 5?\", 5 <= 5)"
   ]
  },
  {
   "cell_type": "markdown",
   "metadata": {},
   "source": [
    "#### Faça você mesmo:\n",
    "\n",
    "Os resultados a seguir são todos `False`. Mude os números ou operadores para que virem todos `True`."
   ]
  },
  {
   "cell_type": "code",
   "execution_count": null,
   "metadata": {},
   "outputs": [],
   "source": [
    "print(4-1 <= 2)"
   ]
  },
  {
   "cell_type": "code",
   "execution_count": null,
   "metadata": {},
   "outputs": [],
   "source": [
    "print(3.5/3 == 1)"
   ]
  },
  {
   "cell_type": "code",
   "execution_count": null,
   "metadata": {},
   "outputs": [],
   "source": [
    "x = 3\n",
    "print(2**x != 4*2)"
   ]
  },
  {
   "cell_type": "code",
   "execution_count": null,
   "metadata": {},
   "outputs": [],
   "source": [
    "x = 4\n",
    "y = 2\n",
    "print(x/2 != y)"
   ]
  },
  {
   "cell_type": "markdown",
   "metadata": {},
   "source": [
    "# **Atenção!!** Não confunda o operador de comparação de igualdade (`==`) com a atribuição (`=`)"
   ]
  },
  {
   "cell_type": "markdown",
   "metadata": {},
   "source": [
    "## Verdadeiro ou falso\n",
    "\n",
    "Ao executar os exemplos da seção acima, você percebeu que o resultado de uma comparação é sempre **`True`** ou **`False`**. Estes são dois valores especiais em Python.\n",
    "\n",
    "Você pode guardá-los em uma variável, se precisar. Veja os exemplos:"
   ]
  },
  {
   "cell_type": "code",
   "execution_count": null,
   "metadata": {},
   "outputs": [],
   "source": [
    "teste1 = 3 < 8 / 3\n",
    "print(teste1)"
   ]
  },
  {
   "cell_type": "code",
   "execution_count": null,
   "metadata": {},
   "outputs": [],
   "source": [
    "teste2 = True\n",
    "print(teste2)"
   ]
  },
  {
   "cell_type": "markdown",
   "metadata": {},
   "source": [
    "-----\n",
    "\n",
    "## Checando itens de uma lista\n",
    "\n",
    "Podemos verificar se um item está armazenado dentro de uma lista usando a palavra `in`."
   ]
  },
  {
   "cell_type": "code",
   "execution_count": null,
   "metadata": {},
   "outputs": [],
   "source": [
    "vogais = [\"a\", \"e\", \"i\", \"o\", \"u\"]\n",
    "print(\"a\" in vogais)\n",
    "print(\"b\" in vogais)"
   ]
  },
  {
   "cell_type": "markdown",
   "metadata": {},
   "source": [
    "## Condicionais\n",
    "\n",
    "Finalmente, vamos ver como fazer para indicar que partes de um código somente serão executadas no caso em que uma condição é verdadeira.\n",
    "\n",
    "Para isso, vamos usar o comando `if`, que significa \"se\" em inglês.\n",
    "\n",
    "Veja o exemplo abaixo, execute-o e depois veja a explicação."
   ]
  },
  {
   "cell_type": "code",
   "execution_count": null,
   "metadata": {},
   "outputs": [],
   "source": [
    "A = 2\n",
    "B = 10\n",
    "if A > B: \n",
    "    print(\"A é maior que B\")\n",
    "    print(\"===============\")\n",
    "print(\"fim do programa\")"
   ]
  },
  {
   "cell_type": "markdown",
   "metadata": {},
   "source": [
    "Veja que os dois comandos `print(...)` que aparecem logo após o comando **`if`** não foram executados, pois `A > B` é falso para os valores atribuídos a `A` e `B`."
   ]
  },
  {
   "cell_type": "markdown",
   "metadata": {},
   "source": [
    "#### Faça você mesmo:\n",
    "\n",
    "1. No código acima, mude o valor de `A` para qualquer valor maior do que 10, re-execute a célula e veja o que acontece.\n",
    "1. Depois disso, mude o código acima para que `A` e `B` sejam inteiros digitados pelo usuário."
   ]
  },
  {
   "cell_type": "markdown",
   "metadata": {},
   "source": [
    "### O comando `if`\n",
    "\n",
    "O comando `if` tem a seguinte estrutura:\n",
    "\n",
    "```\n",
    "if condição:\n",
    "    comando  \n",
    "    comando\n",
    "    comando\n",
    "    etc...\n",
    "continuação do programa\n",
    "```\n",
    "\n",
    "As linhas de código que você quiser executar quando a condição for verdadeira devem vir *indentadas* (alinhadas um pouco mais a frente do que o **`if`**) logo após o comando **`if`**. Você pode usar a tecla `TAB` para alinhar as linhas.\n",
    "\n",
    "Chamaremos o conjunto de comandos executados caso a condição do `if` seja verdadeira de **bloco de comandos do `if`**.\n",
    "\n",
    "Uma linha sem *indentação* marca o fim do bloco de comandos do **`if`**.\n",
    "\n",
    "**Atenção:** se você não *indentar* o código corretamente, o programa terá um comportamento diferente daquele que você espera!\n",
    "\n",
    "Por exemplo, o código a seguir dá erro por falta de indentação (execute-o e veja a mensagem de erro)."
   ]
  },
  {
   "cell_type": "code",
   "execution_count": null,
   "metadata": {},
   "outputs": [],
   "source": [
    "A = 2\n",
    "B = 10\n",
    "if A > B:\n",
    "print(\"A é maior que B\")\n",
    "print(\"===============\")\n",
    "print(\"fim do programa\")"
   ]
  },
  {
   "cell_type": "markdown",
   "metadata": {},
   "source": [
    "O código a seguir sempre imprime \"===============\", pois o comando para imprimir isso já está *fora* do bloco do if."
   ]
  },
  {
   "cell_type": "code",
   "execution_count": null,
   "metadata": {},
   "outputs": [],
   "source": [
    "A = 2\n",
    "B = 10\n",
    "if A > B:\n",
    "    print(\"A é maior que B\")\n",
    "print(\"===============\")\n",
    "print(\"fim do programa\")"
   ]
  },
  {
   "cell_type": "markdown",
   "metadata": {},
   "source": [
    "**Observação**: É uma prática comum em programação, de forma geral, fazer indentação de código para que ele fique mais legível. Na maioria das linguagens de programação como Java e C, a indentação tem um propósito puramente estético. Em Python, no entanto, a indentação é **obrigatória** em vários casos. O bloco do **`if`** é um desses casos.\n",
    "\n"
   ]
  },
  {
   "cell_type": "markdown",
   "metadata": {},
   "source": [
    "**Importante**: você pode escrever qualquer comando que nós já vimos dentro do bloco de comandos do `if`, inclusive outros comandos `if`:"
   ]
  },
  {
   "cell_type": "code",
   "execution_count": null,
   "metadata": {},
   "outputs": [],
   "source": [
    "A = int(input(\"Digite o primeiro número: \"))\n",
    "B = int(input(\"Digite o segundo número: \"))\n",
    "if B != 0:\n",
    "    divisao = A // B\n",
    "    resto = A % B\n",
    "    if resto == 0:\n",
    "        print(A, \"é divisível por\", B, \"e o resultado da divisao é\", divisao)\n",
    "    if resto != 0:\n",
    "        print(\"O resultado da divisão de\", A, \"por\", B, \"é\", divisao, \"e o resto é\", resto)\n",
    "print(\"FIM\")"
   ]
  },
  {
   "cell_type": "markdown",
   "metadata": {},
   "source": [
    "Entenda bem o programa anterior: ele testa se um número é divisível pelo outro. Esse tipo de teste aparece muito em vários outros problemas."
   ]
  },
  {
   "cell_type": "markdown",
   "metadata": {},
   "source": [
    "#### Faça você mesmo!\n",
    "\n",
    "Complete o código a seguir de modo que ele tenha o seguinte comportamento:\n",
    "+ Pergunta ao usuário quantos anos ele tem.\n",
    "+ Se o usuário tem idade par, mostra uma mensagem a ele informando-o desse fato. No caso ímpar você não precisa fazer nada.\n",
    "\n",
    "Dica: um número é par se ele é divisível por 2."
   ]
  },
  {
   "cell_type": "code",
   "execution_count": null,
   "metadata": {},
   "outputs": [],
   "source": [
    "idade = int(input(\"Quantos anos você tem? \"))\n",
    "if :\n",
    "    print(\"Sua idade é par.\")"
   ]
  },
  {
   "cell_type": "markdown",
   "metadata": {},
   "source": [
    "#### Faça você mesmo!\n",
    "\n",
    "Identifique o que o código a seguir está fazendo e complete a mensagem."
   ]
  },
  {
   "cell_type": "code",
   "execution_count": null,
   "metadata": {},
   "outputs": [],
   "source": [
    "x = int(input(\"Digite um inteiro qualquer: \"))\n",
    "if x in range(1,100,2):\n",
    "    print(\"O número digitado é positivo, menor do que 100 e é \")"
   ]
  },
  {
   "cell_type": "markdown",
   "metadata": {},
   "source": [
    "### O comando **`if..else`**\n",
    "\n",
    "Agora que você já entendeu o funcionamento do **`if`**, vamos aprender como executar uma ação (ou várias ações) caso a condição do **`if`** seja falsa.\n",
    "\n",
    "Por exemplo, no exercício da idade par ou impar, se quiséssemos mostrar uma mensagem ao usuário também no caso ímpar, poderíamos fazer algo do tipo:"
   ]
  },
  {
   "cell_type": "code",
   "execution_count": null,
   "metadata": {},
   "outputs": [],
   "source": [
    "idade = int(input(\"Quantos anos você tem? \"))\n",
    "if idade % 2 == 0:\n",
    "    print(\"Sua idade é par.\")\n",
    "if idade % 2 == 1:\n",
    "    print(\"Sua idade é ímpar.\")"
   ]
  },
  {
   "cell_type": "markdown",
   "metadata": {},
   "source": [
    "O código acima está funcionando da seguinte forma:\n",
    "+ primeiro, ele testa se `idade % 2 == 0`\n",
    "+ se for verdade, ele imprime a mensagem `Sua idade é par.` e se não for verdade ele não imprime essa mensagem\n",
    "+ em seguida, ele testa se `idade % 2 == 1`\n",
    "+ se for verdade, ele imprime `Sua idade é ímpar.` e se não for verdade ele não imprime nada\n",
    "\n",
    "Não há nada de errado com esse comportamento, afinal nós já vimos que os comandos de um programa são executados dessa forma: um após o outro.\n",
    "\n",
    "Inclusive, esse código está funcionando corretamente: ele vai indicar, corretamente, se o número digitado pelo usuário é par ou ímpar.\n",
    "\n",
    "Acontece que nós sabemos que um número só pode ser par ou ímpar, e nunca ambos ao mesmo tempo.\n",
    "\n",
    "Assim, se `idade` é um número par e a mensagem `Sua idade é par.` for impressa, não há necessidade em fazer o teste `idade % 2 == 1`.\n",
    "\n",
    "Com o comando **`else`** (que significa \"senão\" em inglês) é possível melhorar esse programa. Veja e teste o exemplo abaixo."
   ]
  },
  {
   "cell_type": "code",
   "execution_count": null,
   "metadata": {},
   "outputs": [],
   "source": [
    "idade = int(input(\"Quantos anos você tem? \"))\n",
    "if idade % 2 == 0:\n",
    "    print(\"Sua idade é par.\")\n",
    "else:\n",
    "    print(\"Sua idade é ímpar.\")"
   ]
  },
  {
   "cell_type": "markdown",
   "metadata": {},
   "source": [
    "Ou seja, o código no bloco do **`else`** só é executado se a condição do **`if`** for falsa."
   ]
  },
  {
   "cell_type": "markdown",
   "metadata": {},
   "source": [
    "**Observação**: você pode escrever qualquer comando que nós já vimos dentro do bloco de comandos do `if` e dentro do bloco de comandos do `else`, inclusive outros comandos `if` ou `if..else`."
   ]
  },
  {
   "cell_type": "markdown",
   "metadata": {},
   "source": [
    "### Importante\n",
    "\n",
    "O comando `if..else` só deve ser utilizado quando temos certeza de que apenas um dos caminhos deve ser seguido.\n",
    "\n",
    "Teste o exemplo a seguir:"
   ]
  },
  {
   "cell_type": "code",
   "execution_count": null,
   "metadata": {},
   "outputs": [],
   "source": [
    "valor = int(input(\"Digite um inteiro qualquer: \"))\n",
    "if valor > 0:\n",
    "    print(\"O número é positivo\")\n",
    "else:\n",
    "    if valor % 2 == 0:\n",
    "        print(\"O número é par\")"
   ]
  },
  {
   "cell_type": "markdown",
   "metadata": {},
   "source": [
    "Note que um número pode ser positivo e par ao mesmo tempo.\n",
    "\n",
    "Assim, supondo que a intenção do código acima é fornecer todas as informações possíveis sobre o número digitado, então ele está errado.\n",
    "\n",
    "Volte e **corrija-o**."
   ]
  },
  {
   "cell_type": "markdown",
   "metadata": {},
   "source": [
    "### Exemplo\n",
    "\n",
    "O programa a seguir quer testar qual é o maior dentre dois números lidos na entrada.\n",
    "\n",
    "Modifique-o para fazer isso de forma mais eficiente."
   ]
  },
  {
   "cell_type": "code",
   "execution_count": null,
   "metadata": {},
   "outputs": [],
   "source": [
    "a = int(input(\"Digite um número: \"))\n",
    "b = int(input(\"Digite outro número: \"))\n",
    "if a >= b:\n",
    "    print(\"O número\", a, \"é maior ou igual ao número\", b)\n",
    "if a < b:\n",
    "    print(\"O número\", b, \"é maior do que o número\", a)"
   ]
  },
  {
   "cell_type": "markdown",
   "metadata": {},
   "source": [
    "O exemplo a seguir envolve listas.\n",
    "\n",
    "Note que um elemento pode estar ou não em uma lista: não há outras opções e ele precisa satisfazer uma dessas duas."
   ]
  },
  {
   "cell_type": "code",
   "execution_count": null,
   "metadata": {
    "scrolled": true
   },
   "outputs": [],
   "source": [
    "minhas_sobremesas = [\"bolo de chocolate\", \"sorvete\", \"pudim\", \"paçoca\", \"brigadeiro\"]\n",
    "x = input(\"Digite sua sobremesa favorita: \")\n",
    "if x in minhas_sobremesas:\n",
    "    print(\"Essa também é uma das minhas sobremesas favoritas!\")\n",
    "else:\n",
    "    print(\"Hmm, eu não havia pensado nessa!!\")"
   ]
  },
  {
   "cell_type": "markdown",
   "metadata": {},
   "source": [
    "#### Faça você mesmo!\n",
    "\n",
    "Profa. Alice ministra a disciplina de Fenômenos Quânticos na UFABC. Ela dará duas provas ($P_1$ e $P_2$), e o critério de aprovação é ter média maior ou igual a $5.0$. Faça um programa em Python que ajude a Profa. Alice a decidir se um aluno foi aprovado ou não. Seu programa deve executar os seguintes passos:\n",
    "+ Perguntar a nota da $P_1$.\n",
    "+ Perguntar a nota da $P_2$.\n",
    "+ Calcular a média simples das provas.\n",
    "+ Se a média das provas for maior ou igual a $5.0$, mostrar a mensagem \"Aprovado\".\n",
    "+ Senão, mostrar \"Reprovado\"."
   ]
  },
  {
   "cell_type": "code",
   "execution_count": null,
   "metadata": {},
   "outputs": [],
   "source": []
  },
  {
   "cell_type": "markdown",
   "metadata": {},
   "source": [
    "### Combinando condições\n",
    "\n",
    "Podemos criar condições mais complexas combinando condições simples. Vejamos um exemplo.\n",
    "\n",
    "Em algumas disciplinas da UFABC, não basta que a média das duas provas ($P1$ e $P2$) de um aluno seja maior ou igual a $5.0$: ele também deve tirar uma nota mínima $3.0$ na $P2$.\n",
    "\n",
    "Ou seja, para que seja aprovado o aluno precisa que\n",
    "\n",
    "$$\\frac{P1 + P2}{2} \\geq 5 \\quad\\quad\\text{ E }\\quad\\quad P2 \\geq 3.$$</p>\n",
    "\n",
    "Em Python, podemos usar a palavra **`and`** para exigir que duas condições valham ao mesmo tempo:"
   ]
  },
  {
   "cell_type": "code",
   "execution_count": null,
   "metadata": {},
   "outputs": [],
   "source": [
    "P1 = float(input(\"Qual a nota da P1? \"))\n",
    "P2 = float(input(\"Qual a nota da P2? \"))\n",
    "if (P1 + P2)/2 >= 5.0 and P2 >= 3.0:\n",
    "    print(\"Aprovado\")\n",
    "else:\n",
    "    print(\"Reprovado\")"
   ]
  },
  {
   "cell_type": "markdown",
   "metadata": {},
   "source": [
    "O operador **`and`** funciona assim: a condição composta `(condição1 and condição2)` é avaliada como **`True`** (verdadeira) só quando a `condição1` é **`True`** e, simultaneamente, a `condição2` também é **`True`**."
   ]
  },
  {
   "cell_type": "markdown",
   "metadata": {},
   "source": [
    "#### Faça você mesmo:\n",
    "\n",
    "Modifique o código acima para que a nota da $P_1$ também tenha que ser pelo menos 3.\n",
    "\n",
    "No código abaixo, altere o valor das variáveis `chuva` e `sol` para ver como isso afeta o programa."
   ]
  },
  {
   "cell_type": "code",
   "execution_count": null,
   "metadata": {},
   "outputs": [],
   "source": [
    "chuva = True\n",
    "sol = False\n",
    "arcoiris = chuva and sol\n",
    "print(arcoiris)"
   ]
  },
  {
   "cell_type": "markdown",
   "metadata": {},
   "source": [
    "#### Faça você mesmo!\n",
    "\n",
    "Vamos assumir que um professor universitário federal pode se aposentar desde que tenha pelo menos 35 anos de serviço e pelo menos 60 anos de idade. Faça um programa para ajudar o professor a descobrir se ele já pode se aposentar.\n",
    "\n",
    "Seu programa deve fazer o seguinte:\n",
    "+ Pergunte ao professor pelo ano em que nasceu.\n",
    "+ Pergunte pelo ano em que começou a trabalhar.\n",
    "+ Pergunte ao professor pelo ano em que estamos.\n",
    "+ Baseando-se nas respostas que ele deu ao seu programa, diga se ele pode se aposentar este ano."
   ]
  },
  {
   "cell_type": "code",
   "execution_count": null,
   "metadata": {},
   "outputs": [],
   "source": []
  },
  {
   "cell_type": "markdown",
   "metadata": {},
   "source": [
    "### Outros operadores\n",
    "\n",
    "Python tem ainda os operadores **`or`** e **`not`**.\n",
    "\n",
    "O operador **`not`** pode ser usado para inverter a validade de uma condição. Veja:"
   ]
  },
  {
   "cell_type": "code",
   "execution_count": null,
   "metadata": {},
   "outputs": [],
   "source": [
    "not(2 > 5)"
   ]
  },
  {
   "cell_type": "markdown",
   "metadata": {},
   "source": [
    "Uma condição da forma `(condição1 or condição2)` será verdadeira se pelo menos uma das duas condições envolvidas for verdadeira.\n",
    "\n",
    "Diferentemente do que estamos acostumados em português, o operador **`or`** não é um ou-exclusivo, ou seja, se as duas condições `condição1` e `condição2` forem ambas verdadeiras, então o resultado de `(condição1 or condição2)` também será verdadeiro."
   ]
  },
  {
   "cell_type": "markdown",
   "metadata": {},
   "source": [
    "#### Faça você mesmo:\n",
    "\n",
    "No código abaixo, altere o valor das variáveis `chuva` e `sol` para ver como isso afeta o programa."
   ]
  },
  {
   "cell_type": "code",
   "execution_count": null,
   "metadata": {},
   "outputs": [],
   "source": [
    "frio = True\n",
    "chuva = True\n",
    "tempoRuim = frio or chuva\n",
    "print(tempoRuim)"
   ]
  },
  {
   "cell_type": "markdown",
   "metadata": {},
   "source": [
    "#### Mais exemplos\n",
    "\n",
    "O resultado da condição composta abaixo é **`True`** porque, apesar da primeira condição ser falsa, a segunda é verdadeira."
   ]
  },
  {
   "cell_type": "code",
   "execution_count": null,
   "metadata": {},
   "outputs": [],
   "source": [
    "print(2 > 5 or 1 < 2)"
   ]
  },
  {
   "cell_type": "markdown",
   "metadata": {},
   "source": [
    "No próximo exemplo, as duas condições são verdadeiras."
   ]
  },
  {
   "cell_type": "code",
   "execution_count": null,
   "metadata": {
    "scrolled": true
   },
   "outputs": [],
   "source": [
    "print(4 == 2 + 2 or 2 > 0)"
   ]
  },
  {
   "cell_type": "markdown",
   "metadata": {},
   "source": [
    "**Observação**: Os operadores `and`, `or` e `not` podem ser combinados em expressões maiores, de forma similar ao que fazemos com os operadores aritméticos (como `+` e `*`)."
   ]
  },
  {
   "cell_type": "code",
   "execution_count": null,
   "metadata": {},
   "outputs": [],
   "source": [
    "x = int(input(\"Digite um número inteiro: \"))\n",
    "# Nesse problema, um número é considerado válido se satisfaz uma das duas propriedades:\n",
    "# * ele está no intervalo entre 100 e 1000\n",
    "# * ele é múltiplo de 3\n",
    "if (100 <= x and x <= 1000) or (x % 3 == 0):\n",
    "    print(\"O número digitado é válido\")"
   ]
  },
  {
   "cell_type": "markdown",
   "metadata": {},
   "source": [
    "### Múltiplas possibilidades\n",
    "\n",
    "É bastante comum lidarmos com situações em que não existem apenas duas possibilidades para o comportamento do programa.\n",
    "\n",
    "Suponha que temos que criar um programa para classificar o nível do *low-density lipoprotein* (LDL), conhecido em português com o nome de colesterol \"ruim\". Segundo um estudo citado pelo [*CDC*](http://www.cdc.gov/dhdsp/data_statistics/fact_sheets/fs_cholesterol.htm) Norte Americano, os níveis de LDL podem ser classificados segundo a tabela abaixo.\n",
    "\n",
    "|    Nível de LDL | Classificação |\n",
    "|----------------:|---------------|\n",
    "|   menor que 100 | Ótimo         |\n",
    "| entre 100 e 129 | Baixo         |\n",
    "| entre 130 e 159 | Limítrofe     |\n",
    "| entre 160 e 189 | Alto          |\n",
    "|   maior que 190 | Muito alto    |\n",
    "\n",
    "Se tivéssemos que fazer um programa que perguntasse pelo nível de LDL e que mostrasse a classificação correspondente, poderíamos usar os conhecimentos de **`if..else`** que adquirimos até agora e construir o seguinte programa."
   ]
  },
  {
   "cell_type": "code",
   "execution_count": null,
   "metadata": {},
   "outputs": [],
   "source": [
    "LDL = float(input(\"Qual o nível de LDL? \"))\n",
    "if LDL < 100:\n",
    "    print(\"Ótimo\")\n",
    "if 100 <= LDL and LDL < 130:\n",
    "    print(\"Baixo\")\n",
    "if 130 <= LDL and LDL < 160:\n",
    "    print(\"Limítrofe\")\n",
    "if 160 <= LDL and LDL < 190:\n",
    "    print(\"Alto\")\n",
    "if 190 <= LDL:\n",
    "    print(\"Muito alto\")"
   ]
  },
  {
   "cell_type": "markdown",
   "metadata": {},
   "source": [
    "O programa acima está correto, mas essa não é a melhor forma de realizar esses testes.\n",
    "\n",
    "No código acima, todos os testes serão feitos, mesmo sabendo que apenas um deles pode ser verdadeiro, qualquer que seja o valor de `LDL`.\n",
    "\n",
    "Uma forma de melhorar isso é dada a seguir.\n",
    "\n",
    "Estude bem essa forma para entender o que está acontecendo."
   ]
  },
  {
   "cell_type": "code",
   "execution_count": null,
   "metadata": {},
   "outputs": [],
   "source": [
    "LDL = float(input(\"Qual o nível de LDL? \"))\n",
    "if LDL < 100:\n",
    "    print(\"Ótimo\")\n",
    "else: # aqui sabemos que LDL >= 100\n",
    "    if LDL < 130: # por isso basta testar se é menor do que 130\n",
    "        print(\"Baixo\")\n",
    "    else:\n",
    "        if LDL < 160:\n",
    "            print(\"Limítrofe\")\n",
    "        else:\n",
    "            if LDL < 190:\n",
    "                print(\"Alto\")\n",
    "            else:\n",
    "                print(\"Muito alto\")"
   ]
  },
  {
   "cell_type": "markdown",
   "metadata": {},
   "source": [
    "Existe uma forma ainda melhor de escrevê-lo em Python, que é usando o comando **`elif`** (abreviação de \"else if\"; em português, \"senão, se\").\n",
    "\n",
    "Você pode usar diversos comandos **`elif`** associados a um **`if`**, mas eles devem sempre vir atrelados a um comando **`if`**.\n",
    "\n",
    "Veja como é mais simples classificar os níveis de LDL com o comando **`elif`**:"
   ]
  },
  {
   "cell_type": "code",
   "execution_count": null,
   "metadata": {},
   "outputs": [],
   "source": [
    "LDL = float(input(\"Qual o nível de LDL? \"))\n",
    "if LDL < 100:\n",
    "    print(\"Ótimo\")\n",
    "elif LDL < 130:\n",
    "    print(\"Baixo\")\n",
    "elif LDL < 160:\n",
    "    print(\"Limítrofe\")\n",
    "elif LDL < 190:\n",
    "    print(\"Alto\")\n",
    "else:\n",
    "    print(\"Muito alto\")"
   ]
  },
  {
   "cell_type": "markdown",
   "metadata": {},
   "source": [
    "Quando o teste `LDL < 100` resulta em verdadeiro, os comandos do seu bloco são executados e **nenhum** outro comando da construção `if .. elif .. else` é executado (em particular, nenhum teste é feito).\n",
    "    \n",
    "Por outro lado, se o teste `LDL < 100` for falso, então os outros testes serão feitos, mas para todos eles já sabemos que temos um valor de `LDL` maior ou igual a 100 e, por isso, não há necessidade de indicar esse teste nas condições seguintes.\n",
    "    \n",
    "No programa acima, o trecho `print(\"Alto\")` só será executado se:\n",
    "+ a condição do **`if`** for falsa (isto é, se LDL >= 100) **e**\n",
    "+ a condição do primeiro **`elif`** for falsa (isto é, se LDL >= 130) **e**\n",
    "+ a condição do segundo **`elif`** for falsa (isto é, se LDL >= 160) **e**\n",
    "+ a condição do terceiro **`elif`** for verdadeira (isto é, se LDL < 190).\n",
    "\n",
    "De forma mais geral, um trecho de código dentro de um bloco **`elif`** só será executado se _a condição daquele **`elif`** for verdadeira, mas todas as condições dos **`elif`** que o precedem, incluindo a condição do **`if`**, forem todas falsas!_\n",
    "\n",
    "Por fim, fique sabendo que usar um comando **`elif`** dentro de um **`if`** não proíbe você de usar um **`else`** também, desde que o **`else`** venha por último.\n",
    "\n",
    "O trecho de código dentro do **`else`** só será executado se **todas** as condições que o precederam forem falsas."
   ]
  },
  {
   "cell_type": "markdown",
   "metadata": {},
   "source": [
    "#### Faça você mesmo!\n",
    "\n",
    "Se uma pessoa tem peso $P$ e altura $A$, então o índice de massa corporal (*IMC*) dessa pessoa é\n",
    "$$IMC = \\frac{P}{A^2}.$$\n",
    "\n",
    "Faça um programa que pede para o usuário digitar a sua altura e depois o seu peso. Calcule e mostre\n",
    "o IMC do usuário e diga em que categoria ele está. Use a seguinte tabela:\n",
    "\n",
    "| Faixa                | Categoria      |\n",
    "|---------------------:|----------------|\n",
    "|           IMC < 18.5 | Abaixo do peso |\n",
    "| 18.5 &le; IMC < 25.0 | Normal         |\n",
    "| 25.0 &le; IMC < 30.0 | Sobrepeso      |\n",
    "|          30 &le; IMC | Obeso          |\n"
   ]
  },
  {
   "cell_type": "code",
   "execution_count": null,
   "metadata": {},
   "outputs": [],
   "source": []
  },
  {
   "cell_type": "markdown",
   "metadata": {},
   "source": [
    "## Outro exemplo\n",
    "\n",
    "Suponha que queremos descobrir se três dados números são os lados de um triângulo.\n",
    "\n",
    "Obviamente os três valores têm que ser positivos e não nulos mas, além disso, em um triângulo vale a propriedade de que cada um dos seus lados é menor do que a soma dos outros dois lados.\n",
    "\n",
    "Os três códigos a seguir fazem essa verificação de formas diferentes.\n",
    "\n",
    "Estude cada uma delas atentamente."
   ]
  },
  {
   "cell_type": "code",
   "execution_count": null,
   "metadata": {},
   "outputs": [],
   "source": [
    "a = int(input(\"Digite um número inteiro: \"))\n",
    "b = int(input(\"Digite outro número inteiro: \"))\n",
    "c = int(input(\"Digite um último número inteiro: \"))\n",
    "\n",
    "if a <= 0 or b <= 0 or c <= 0: # se algum dos números for negativo, não forma triângulo\n",
    "    print(\"Esses valores não formam um triângulo.\")\n",
    "# a seguir sabemos, portanto, que todos os valores são positivos\n",
    "elif a < b+c and b < a+c and c < a+b: # basta testar se cada lado é menor que a soma dos outros dois\n",
    "    print(\"Os valores formam um triângulo.\")\n",
    "# a seguir ainda sabemos que todos os valores são positivos\n",
    "else: # mas algum dos lados deve ser maior do que a soma dos outros dois\n",
    "    print(\"Esses valores não formam um triângulo.\")"
   ]
  },
  {
   "cell_type": "code",
   "execution_count": null,
   "metadata": {},
   "outputs": [],
   "source": [
    "a = int(input(\"Digite um número inteiro: \"))\n",
    "b = int(input(\"Digite outro número inteiro: \"))\n",
    "c = int(input(\"Digite um último número inteiro: \"))\n",
    "\n",
    "if (a > 0 and b > 0 and c > 0) and (a < b+c and b < a+c and c < a+b):\n",
    "    print(\"Os valores formam um triângulo.\")\n",
    "else:\n",
    "    print(\"Esses valores não formam um triângulo.\")"
   ]
  },
  {
   "cell_type": "code",
   "execution_count": null,
   "metadata": {},
   "outputs": [],
   "source": [
    "a = int(input(\"Digite um número inteiro: \"))\n",
    "b = int(input(\"Digite outro número inteiro: \"))\n",
    "c = int(input(\"Digite um último número inteiro: \"))\n",
    "\n",
    "if not(a <= 0 or b <= 0 or c <= 0) and not(a >= b+c or b >= a+c or c >= a+b):\n",
    "    print(\"Os valores formam um triângulo.\")\n",
    "else:\n",
    "    print(\"Esses valores não formam um triângulo.\")"
   ]
  },
  {
   "cell_type": "markdown",
   "metadata": {},
   "source": [
    "-----\n",
    "\n",
    "## Outro exemplo\n",
    "\n",
    "O problema agora é descobrir qual é o maior número dentre três números inteiros dados pelo usuário.\n",
    "\n",
    "Note que não é dada nenhuma informação sobre quais são os números com relação a eles serem negativos ou positivos ou mesmo se eles estão todos dentro de algum intervalo."
   ]
  },
  {
   "cell_type": "code",
   "execution_count": null,
   "metadata": {},
   "outputs": [],
   "source": [
    "a = int(input(\"Digite o primeiro número: \"))\n",
    "b = int(input(\"Digite o segundo número: \"))\n",
    "c = int(input(\"Digite o terceiro número: \"))\n",
    "\n",
    "# vamos usar uma variável de nome \"maior\" que vai manter qual dos três é o maior deles\n",
    "if a >= b and a >= c:\n",
    "    maior = a\n",
    "elif b >= a and b >= c:\n",
    "    maior = b\n",
    "else:\n",
    "    maior = c\n",
    "print(\"O maior dos três números é\", maior)"
   ]
  },
  {
   "cell_type": "markdown",
   "metadata": {},
   "source": [
    "-----\n",
    "\n",
    "## Agora é a sua vez!\n",
    "\n",
    "Resolva a lista de exercícios para fixar melhor todo esse conteúdo!\n",
    "\n",
    "Boa sorte e não se esqueça de ir ao horário de atendimento da professora caso esteja com dúvidas ou tenha algum problema."
   ]
  }
 ],
 "metadata": {
  "kernelspec": {
   "display_name": "Python 3",
   "language": "python",
   "name": "python3"
  },
  "language_info": {
   "codemirror_mode": {
    "name": "ipython",
    "version": 3
   },
   "file_extension": ".py",
   "mimetype": "text/x-python",
   "name": "python",
   "nbconvert_exporter": "python",
   "pygments_lexer": "ipython3",
   "version": "3.5.2"
  }
 },
 "nbformat": 4,
 "nbformat_minor": 1
}
