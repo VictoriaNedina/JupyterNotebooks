{
 "cells": [
  {
   "cell_type": "markdown",
   "metadata": {},
   "source": [
    "<font size=4>\n",
    "<h1>Exercícios (para serem entregues)</h1>\n",
    "\n",
    "<p>Agora é sua vez: faça os exercícios para praticar os conceitos vistos na aula sobre comandos de repetição.</p>\n",
    "\n",
    "<p>Lembre-se de <b>salvar</b> sempre o seu notebook. Ele deverá ser <b>entregue pelo tidia</b> para que você receba sua nota!</p>\n",
    "\n",
    "</font>"
   ]
  },
  {
   "cell_type": "markdown",
   "metadata": {},
   "source": [
    "<h2>Questão 0 (exemplo)</h2>\n",
    "    \n",
    "<p>Faça um programa que imprima as $n$ primeiras potências de 2, em ordem crescente.</p>\n",
    "\t\n",
    "<p><b>Entrada:</b> O programa deve receber um único número inteiro $n$ tal que $n \\geq 0$.</p>\n",
    "\t\n",
    "<p><b>Saída:</b> A resposta consistirá em $n$ linhas, cada uma com um número que é potência de 2.</p>"
   ]
  },
  {
   "cell_type": "code",
   "execution_count": null,
   "metadata": {},
   "outputs": [],
   "source": [
    "n = int(input(\"Digite o valor de n: \"))\n",
    "# a primeira potência de 2 é 2 elevado a zero\n",
    "for i in range(n):\n",
    "    print(2**i)"
   ]
  },
  {
   "cell_type": "markdown",
   "metadata": {},
   "source": [
    "<h2>Questão 1</h2>\n",
    "\n",
    "<p>Faça um programa que mostre os números pares entre 1 e $n$, inclusive.</p>\n",
    "\n",
    "<p><b>Entrada:</b> O programa deve receber um inteiro $n > 1$.</p>\n",
    "\n",
    "<p><b>Saída:</b> Imprima todos os números pares entre 1 e $n$, inclusive, se for o caso, um em cada linha.</p>"
   ]
  },
  {
   "cell_type": "code",
   "execution_count": null,
   "metadata": {},
   "outputs": [],
   "source": [
    "n = int(input(\"Digite o valor de n, tal que n>1: \"))\n",
    "for i in range(2, n + 1, 2):\n",
    "    print(i)\n",
    "print(\"FIM\")"
   ]
  },
  {
   "cell_type": "markdown",
   "metadata": {},
   "source": [
    "<h2>Questão 2</h2>\n",
    "\n",
    "<p>Faça um programa que leia $n$ valores. Estes valores serão somente negativos ou positivos (nunca nulos). A seguir, mostre a quantidade de valores positivos que foram digitados.</p>\n",
    "\n",
    "<p><b>Entrada:</b> O programa deve receber inicialmente um inteiro $n$ ($n \\geq 0$). Em seguida, deve receber $n$ números reais não nulos.</p>\n",
    "\n",
    "<p><b>Saída:</b> A resposta consistirá de uma única linha, contendo a mensagem `X valores positivos`, onde `X` deve ser corretamente substituído pela quantidade de valores positivos que foram lidos.</p>"
   ]
  },
  {
   "cell_type": "code",
   "execution_count": null,
   "metadata": {},
   "outputs": [],
   "source": [
    "n1= int(input(\"Digite o valor de n, tal que n >=0: \"))\n",
    "n2= int(input(\"Digite outro valor não nulo: \"))\n",
    "total = 0\n",
    "for x in range(n1, n2+1):\n",
    "    if x > 0:\n",
    "        total += 1\n",
    "print(total,\"valores positivos\")"
   ]
  },
  {
   "cell_type": "markdown",
   "metadata": {},
   "source": [
    "## <h2>Questão 3</h2>\n",
    "\n",
    "<p>Suponha que seu computador consiga executar somente operações de soma e subtração. Escreva um programa que calcule o produto $ab$.</p>\n",
    "\t\n",
    "<p><b>Entrada:</b> O programa deverá receber dois números inteiros, $a$ e $b$, respectivamente, com $a \\geq 0$ e $b \\geq 0$.</p>\n",
    "\t\n",
    "<p><b>Saída:</b> A saída consistirá de uma única linha, contendo um único número, resultado de $ab$.</p>"
   ]
  },
  {
   "cell_type": "code",
   "execution_count": null,
   "metadata": {},
   "outputs": [],
   "source": [
    "a = int(input(\"Digite o valor de a: \"))\n",
    "b = int(input(\"Digite o valor de b: \"))\n",
    "produto = 0 \n",
    "contagem = 0 \n",
    "while contagem < b:\n",
    "    produto += a\n",
    "    contagem +=1\n",
    "print(\"O produto é\", produto)"
   ]
  },
  {
   "cell_type": "markdown",
   "metadata": {},
   "source": [
    "<h2>Questão 4</h2>\n",
    "\n",
    "<p>Faça um programa que calcule a média, o maior número e o menor número de $n$ números inteiros.</p>\n",
    "\t\n",
    "<p><b>Entrada:</b> O programa deve receber inicialmente um inteiro positivo $n$, com $n \\geq 1$, e em seguida deve receber $n$ números inteiros.</p>\n",
    "\t\n",
    "<p><b>Saída:</b> A resposta consistirá de uma única linha, contendo um número real que representa a média dos $n$ números dados, seguido por dois números inteiros que são o maior e o menor número, respectivamente, dos $n$ números dados.</p>"
   ]
  },
  {
   "cell_type": "code",
   "execution_count": null,
   "metadata": {},
   "outputs": [],
   "source": [
    "n = int(input(\"Digite o valor de n: \"))\n",
    "soma = 0\n",
    "menor = maior\n",
    "maior = 0\n",
    "for x in range(n):\n",
    "    numero = int(input(\"Digite outro valor: \"))\n",
    "    soma += numero\n",
    "    if numero < menor:\n",
    "        menor = numero\n",
    "    if numero > maior:\n",
    "        maior = numero\n",
    "print(\"Média:\",(soma/n),\"Maior:\", maior,\"Menor:\", menor)"
   ]
  },
  {
   "cell_type": "markdown",
   "metadata": {},
   "source": [
    "<h2>Questão 5</h2>\n",
    "\n",
    "<p>Faça um programa que leia um inteiro $n$, com $0 \\leq n \\leq 80$, e imprima uma saída da forma:</p>\n",
    "<pre>\n",
    "1\n",
    " 2\n",
    "  3\n",
    "   4\n",
    "    .\n",
    "     .\n",
    "      .\n",
    "       n\n",
    "</pre>\n",
    "\n",
    "<i>Dica:</i> pense primeiro em como você imprimiria uma das linhas (uma linha qualquer)."
   ]
  },
  {
   "cell_type": "code",
   "execution_count": null,
   "metadata": {},
   "outputs": [],
   "source": [
    "n = int(input(\"Digite o valor de n: \"))\n",
    "espaco = \"\"\n",
    "if n >= 0 and n <= 80:\n",
    "    for i in range(0, n+1):\n",
    "        espaco += \" \"\n",
    "        print(espaco, i)"
   ]
  },
  {
   "cell_type": "markdown",
   "metadata": {},
   "source": [
    "<h2>Questão 6</h2>\n",
    "\n",
    "<p>Escreva um programa que leia um valor inteiro $N$. Este $N$ é a quantidade de linhas de saída que serão  apresentadas na execução do programa.</p>\n",
    "\n",
    "<p><b>Entrada:</b> O programa deve receber um único inteiro $N$ com $N > 0$.</p>\n",
    "\n",
    "<p><b>Saída:</b> Imprima a saída conforme o exemplo abaixo.</p>\n",
    "\n",
    "| Entrada | Saída esperada  | \n",
    "|---------|-----------------|\n",
    "|  7      | 1 2 3 PUM       |\n",
    "|         | 5 6 7 PUM       |\n",
    "|         | 9 10 11 PUM     |\n",
    "|         | 13 14 15 PUM    |\n",
    "|         | 17 18 19 PUM    |\n",
    "|         | 21 22 23 PUM    |\n",
    "|         | 25 26 27 PUM    |"
   ]
  },
  {
   "cell_type": "code",
   "execution_count": null,
   "metadata": {},
   "outputs": [],
   "source": [
    "n = int(input(\"Digite a quantidade de linhas: \"))\n",
    "x = 1\n",
    "for n in range(1, n+1):\n",
    "    print (x, x+1, x+2, \"PUM\")\n",
    "    n+=1\n",
    "    x+=4"
   ]
  },
  {
   "cell_type": "markdown",
   "metadata": {},
   "source": [
    "<h2>Questão 7</h2>\n",
    "\n",
    "<p>Faça um programa que teste se um dado número é primo. Um número $n$ é primo se os seus únicos divisores são o $1$ e o próprio $n$.</p>\n",
    "\t\n",
    "<p><b>Entrada:</b> O programa deve receber um único número $n$, com $n \\geq 2$.</p>\n",
    "\t\n",
    "<p><b>Saída:</b> A resposta consistirá de uma única linha, contendo a palavra `SIM`, se $n$ for primo, e `NAO`, caso contrário.</p>\n",
    "\n",
    "<i>Dica:</i> Como você resolveria esse problema \"na mão\"? Pegue uma folha de papel e, sem pensar em programação, observe como você faz para decidir se o número 431, por exemplo, é primo ou não. Pense em todos os números que são candidatos a serem divisores de $n$ que não sejam o 1 e nem o próprio $n$. Se algum deles de fato for divisor de $n$, então $n$ não é primo."
   ]
  },
  {
   "cell_type": "code",
   "execution_count": null,
   "metadata": {},
   "outputs": [],
   "source": [
    "n = int(input(\"Digite um número >= 2: \"))\n",
    "divisores = 0\n",
    "for i in range(1, n+1):\n",
    "    if n % i == 0:\n",
    "        divisores += 1\n",
    "if divisores > 2:\n",
    "        print(\"NÃO\")\n",
    "else:\n",
    "        print(\"SIM\")"
   ]
  },
  {
   "cell_type": "markdown",
   "metadata": {},
   "source": [
    "<h2>Questão 8</h2>\n",
    "\n",
    "<p>Faça um programa que imprima as tabuadas de todos os números entre 1 e $n$.</p>\n",
    "\n",
    "<p><b>Entrada:</b> O programa deve receber o valor de $n$.</p>\n",
    "\n",
    "<p><b>Saída</b> Para cada número $x$ entre $1$ e $n$, imprima 11 linhas: a primeira contendo o texto `Tabuada do x:` seguida por 10 linhas, cada uma contendo o texto `x * i = xi`, onde `i` vai variar entre $1$ e $10$ e `x`, `i` e `xi` devem ser devidamente substituídos.</p>"
   ]
  },
  {
   "cell_type": "code",
   "execution_count": null,
   "metadata": {},
   "outputs": [],
   "source": [
    "n = int(input(\"Digite o valor de n: \"))\n",
    "print(\"Tabuada do\", n)\n",
    "for i in range(1, 11):\n",
    "    print(n, \"*\", i ,\"=\", n*i)"
   ]
  },
  {
   "cell_type": "markdown",
   "metadata": {},
   "source": [
    "<h2>Questão 9</h2>\n",
    "\n",
    "<p>Faça um programa que imprima a quantidade de divisores de um número.</p>\n",
    "\t\n",
    "<p><b>Entrada:</b> O programa deve receber um único número inteiro $n$, com $n \\geq 1$.</p>\n",
    "\t\n",
    "<p><b>Saída:</b> A resposta deverá ser ser no formato `O número de divisores de n é x.`, onde `n` e `x` devem ser devidamente substituídos.</p>"
   ]
  },
  {
   "cell_type": "code",
   "execution_count": null,
   "metadata": {},
   "outputs": [],
   "source": [
    "n = int(input(\"Digite o valor de n: \"))\n",
    "divisores = 0\n",
    "x = 0\n",
    "for i in range(1, n+1):\n",
    "    if n % i == 0:\n",
    "        x += 1\n",
    "print(\"O número de divisores de\", n, \"é\", x)"
   ]
  },
  {
   "cell_type": "markdown",
   "metadata": {},
   "source": [
    "<h2>Questão 10</h2>\n",
    "\n",
    "<p>A série de Fibonacci é a seguinte: 1, 1, 2, 3, 5, 8, 13, 21, 34, 55, \\ldots. Ou seja, o $i$-ésimo número da sequência, $f(i)$, é dado pela seguinte fórmula:\n",
    "\t$$f(i) = \\left\\{\n",
    "\t\\begin{array}{ll}\n",
    "\t1 & \\mbox{ se } i = 1\\\\\n",
    "\t1 & \\mbox{ se } i = 2\\\\\n",
    "\tf(i-1) + f(i-2) & \\mbox{ se } i > 2\n",
    "\t\\end{array}\n",
    "\t\\right.$$\n",
    "Faça um programa que imprima os $n$ primeiros números da série de Fibonacci.</p>\n",
    "\t\n",
    "<p><b>Entrada:</b> O programa deverá receber um único inteiro $n$, com $n \\geq 0$.</p>\n",
    "\t\n",
    "<p><b>Saída:</b> A resposta consistirá em $n$ linhas, cada uma contendo um número que faz parte da série de Fibonacci.</p>\n"
   ]
  },
  {
   "cell_type": "code",
   "execution_count": null,
   "metadata": {},
   "outputs": [],
   "source": [
    "n = int(input(\"Digite o valor de n: \"))\n",
    "a = 0\n",
    "b = 1\n",
    "c = 0\n",
    "contador = 3\n",
    "print(a)\n",
    "print(b)\n",
    "while contador < n+1:\n",
    "    c = a + b\n",
    "    print(c)\n",
    "    a = b\n",
    "    b = c\n",
    "    contador +=1"
   ]
  }
 ],
 "metadata": {
  "kernelspec": {
   "display_name": "Python 3",
   "language": "python",
   "name": "python3"
  },
  "language_info": {
   "codemirror_mode": {
    "name": "ipython",
    "version": 3
   },
   "file_extension": ".py",
   "mimetype": "text/x-python",
   "name": "python",
   "nbconvert_exporter": "python",
   "pygments_lexer": "ipython3",
   "version": "3.7.3"
  }
 },
 "nbformat": 4,
 "nbformat_minor": 1
}
