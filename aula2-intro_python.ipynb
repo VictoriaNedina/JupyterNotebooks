{
 "cells": [
  {
   "cell_type": "markdown",
   "metadata": {},
   "source": [
    "# Introdução à programação em Python\n",
    "\n",
    "Neste notebook, vamos aprender alguns elementos básicos de programação em Python.\n",
    "\n",
    "Lembre-se que para executar uma célula de código, basta clicar nela e digitar `SHIFT+ENTER`.\n",
    "\n",
    "Você deve ler os textos e ir executando as células de código para fixar o aprendizado.\n",
    "\n",
    "-----\n",
    "\n",
    "## Variáveis\n",
    "\n",
    "Uma variável é uma porção de memória que guarda um valor. Ela tem um nome que a identifica.\n",
    "\n",
    "Uma expressão da forma `variavel = valor` é chamada de **atribuição**.\n",
    "\n",
    "Comandos de atribuição servem para atribuir valores à variáveis."
   ]
  },
  {
   "cell_type": "code",
   "execution_count": null,
   "metadata": {},
   "outputs": [],
   "source": [
    "var = 5   # comando de atribuição (atribuindo o valor 5 à variável \"var\")\n",
    "print(var)  # comando de impressão (para mostrar um valor na tela)"
   ]
  },
  {
   "cell_type": "markdown",
   "metadata": {},
   "source": [
    "O conceito de variável em programação é diferente do conceito matemático. Aqui, você pode mudar o conteúdo de uma variável a qualquer momento."
   ]
  },
  {
   "cell_type": "code",
   "execution_count": null,
   "metadata": {},
   "outputs": [],
   "source": [
    "var = 134   # valor inteiro\n",
    "print(var)\n",
    "var = 4.2   # valor decimal\n",
    "print(var)\n",
    "var = \"hello world\"  # texto\n",
    "print(var)"
   ]
  },
  {
   "cell_type": "markdown",
   "metadata": {},
   "source": [
    "Nomes de variáveis só podem conter letras (maiúsculas ou minúsculas, mas sem acentos), números e o símbolo underline ( _ ) e, além disso, nunca podem começar com número.\n",
    "\n",
    "Nomes de variáveis devem ser descritivos, mas procure não usar nomes muito grandes."
   ]
  },
  {
   "cell_type": "code",
   "execution_count": null,
   "metadata": {},
   "outputs": [],
   "source": [
    "numero = -5\n",
    "print(numero)"
   ]
  },
  {
   "cell_type": "code",
   "execution_count": null,
   "metadata": {},
   "outputs": [],
   "source": [
    "nome_professora = \"Carla\"\n",
    "print(\"O nome da professora é\", nome_professora)"
   ]
  },
  {
   "cell_type": "code",
   "execution_count": null,
   "metadata": {},
   "outputs": [],
   "source": [
    "Valor1 = 12.4\n",
    "print(Valor1)\n",
    "Valor2 = 56\n",
    "print(Valor2)"
   ]
  },
  {
   "cell_type": "code",
   "execution_count": null,
   "metadata": {},
   "outputs": [],
   "source": [
    "3invalido = 4"
   ]
  },
  {
   "cell_type": "markdown",
   "metadata": {},
   "source": [
    "Execute as próximas células e veja um erro comum que pode acontecer:"
   ]
  },
  {
   "cell_type": "code",
   "execution_count": null,
   "metadata": {},
   "outputs": [],
   "source": [
    "nome_professora = \"Carla Negri Lintzmayer\"\n",
    "print(nome_profesora) "
   ]
  },
  {
   "cell_type": "code",
   "execution_count": 1,
   "metadata": {},
   "outputs": [
    {
     "ename": "NameError",
     "evalue": "name 'Sala_da_prof' is not defined",
     "output_type": "error",
     "traceback": [
      "\u001b[0;31m---------------------------------------------------------------------------\u001b[0m",
      "\u001b[0;31mNameError\u001b[0m                                 Traceback (most recent call last)",
      "\u001b[0;32m<ipython-input-1-dbe0ced03c7e>\u001b[0m in \u001b[0;36m<module>\u001b[0;34m\u001b[0m\n\u001b[1;32m      1\u001b[0m \u001b[0msala_da_prof\u001b[0m \u001b[0;34m=\u001b[0m \u001b[0;34m\"508-2\"\u001b[0m\u001b[0;34m\u001b[0m\u001b[0m\n\u001b[0;32m----> 2\u001b[0;31m \u001b[0mprint\u001b[0m\u001b[0;34m(\u001b[0m\u001b[0;34m\"A sala da professora é\"\u001b[0m\u001b[0;34m,\u001b[0m \u001b[0mSala_da_prof\u001b[0m\u001b[0;34m)\u001b[0m\u001b[0;34m\u001b[0m\u001b[0m\n\u001b[0m",
      "\u001b[0;31mNameError\u001b[0m: name 'Sala_da_prof' is not defined"
     ]
    }
   ],
   "source": [
    "sala_da_prof = \"508-2\"\n",
    "print(\"A sala da professora é\", Sala_da_prof)"
   ]
  },
  {
   "cell_type": "markdown",
   "metadata": {},
   "source": [
    "Quais foram os erros? **Volte e conserte-os**."
   ]
  },
  {
   "cell_type": "markdown",
   "metadata": {},
   "source": [
    "-----\n",
    "## Números\n",
    "\n",
    "Lidar com números é bem fácil em Python.\n",
    "\n",
    "#### Inteiros\n",
    "\n",
    "Você pode fazer todas as operações básicas com inteiros: adição com símbolo `+`, subtração com símbolo `-`, multiplicação com símbolo `*`, divisão  com símbolo `/`, divisão inteira com símbolo `//`, resto de divisão com símbolo `%` e exponenciação com símbolo `**`."
   ]
  },
  {
   "cell_type": "code",
   "execution_count": null,
   "metadata": {},
   "outputs": [],
   "source": [
    "print(4 + 67)"
   ]
  },
  {
   "cell_type": "code",
   "execution_count": null,
   "metadata": {},
   "outputs": [],
   "source": [
    "print(9 - 4)"
   ]
  },
  {
   "cell_type": "code",
   "execution_count": null,
   "metadata": {},
   "outputs": [],
   "source": [
    "print(3 * 2)"
   ]
  },
  {
   "cell_type": "code",
   "execution_count": null,
   "metadata": {},
   "outputs": [],
   "source": [
    "# o símbolo \"/\" indica divisão exata\n",
    "print(19 / 5)"
   ]
  },
  {
   "cell_type": "code",
   "execution_count": null,
   "metadata": {},
   "outputs": [],
   "source": [
    "# o símbolo \"//\" indica divisão inteira\n",
    "print(19 // 5)"
   ]
  },
  {
   "cell_type": "code",
   "execution_count": null,
   "metadata": {},
   "outputs": [],
   "source": [
    "# o símbolo \"%\" indica o resto da divisão\n",
    "print(19 % 5)"
   ]
  },
  {
   "cell_type": "code",
   "execution_count": null,
   "metadata": {},
   "outputs": [],
   "source": [
    "# o símbolo \"**\" indica exponenciação\n",
    "print(3**2)"
   ]
  },
  {
   "cell_type": "markdown",
   "metadata": {},
   "source": [
    "Você pode criar expressões maiores, que utilizem mais de um operador ao mesmo tempo.\n",
    "    \n",
    "Tente adivinhar o resultado da expressão a seguir antes de executá-la:"
   ]
  },
  {
   "cell_type": "code",
   "execution_count": null,
   "metadata": {},
   "outputs": [],
   "source": [
    "print(4 + 3 * 5 - 8 + 2**3 / 4)"
   ]
  },
  {
   "cell_type": "markdown",
   "metadata": {},
   "source": [
    "O Python executa as operações na seguinte ordem:\n",
    "\n",
    "+ `**`\n",
    "+ `*`, `/`, `//` e `%`\n",
    "+ `+` e `-`\n",
    "\n",
    "Na dúvida, você pode colocar parênteses para deixar a ordem clara."
   ]
  },
  {
   "cell_type": "code",
   "execution_count": null,
   "metadata": {},
   "outputs": [],
   "source": [
    "ordem_padrao = 1 + 5 * 3\n",
    "print(ordem_padrao)"
   ]
  },
  {
   "cell_type": "code",
   "execution_count": null,
   "metadata": {},
   "outputs": [],
   "source": [
    "minha_ordem = (1 + 5) * 3\n",
    "print(minha_ordem)"
   ]
  },
  {
   "cell_type": "markdown",
   "metadata": {},
   "source": [
    "Note pelos exemplos anteriores que também podemos atribuir resultados de expressões a variáveis."
   ]
  },
  {
   "cell_type": "markdown",
   "metadata": {},
   "source": [
    "#### Faça você mesmo!\n",
    "\n",
    "Coloque parênteses abaixo de modo que a resposta seja `600`.\n",
    "\n",
    "_Dica_: Tente fazer com que `2**3-1+2` seja `6` e depois seja multiplicado por `100`."
   ]
  },
  {
   "cell_type": "code",
   "execution_count": null,
   "metadata": {},
   "outputs": [],
   "source": [
    "expressao = 2 ** 3 - 1 + 2 * 100\n",
    "print(expressao)"
   ]
  },
  {
   "cell_type": "markdown",
   "metadata": {},
   "source": [
    "#### Faça você mesmo!\n",
    "\n",
    "João faz 10 anos de idade hoje, neste exato momento!\n",
    "\n",
    "Na célula abaixo, calcule quantos segundos de vida ele acabou de comemorar.\n",
    "\n",
    "Suponha que um ano sempre tem 365 dias, ou seja, ignore os anos bissextos."
   ]
  },
  {
   "cell_type": "code",
   "execution_count": null,
   "metadata": {},
   "outputs": [],
   "source": []
  },
  {
   "cell_type": "markdown",
   "metadata": {},
   "source": [
    "> Para salvar o seu trabalho, clique em `File > Save and Checkpoint` ou no ícone do disquete (você sabe o que é um disquete?).\n",
    "\n",
    "> Mas se você estiver usando jupyter em um site, ele não salva arquivos!\n",
    "\n",
    "> Nesse caso, clique em **_File > Download as > IPython Notebook (.ipynb)_** para baixar uma cópia para o seu computador. Baixe cópias frequentemente para não perder o seu trabalho!"
   ]
  },
  {
   "cell_type": "markdown",
   "metadata": {},
   "source": [
    "### Pontos flutuantes\n",
    "\n",
    "Números de ponto flutuante se referem a números com casas decimais e em geral eles vão se comportar como tais."
   ]
  },
  {
   "cell_type": "code",
   "execution_count": null,
   "metadata": {},
   "outputs": [],
   "source": [
    "print(0.1 + 0.1)"
   ]
  },
  {
   "cell_type": "code",
   "execution_count": null,
   "metadata": {},
   "outputs": [],
   "source": [
    "print(0.54 * 4)"
   ]
  },
  {
   "cell_type": "markdown",
   "metadata": {},
   "source": [
    "Mas pode ser que às vezes o resultado não saia como esperado:"
   ]
  },
  {
   "cell_type": "code",
   "execution_count": null,
   "metadata": {},
   "outputs": [],
   "source": [
    "print(0.1 + 0.2)"
   ]
  },
  {
   "cell_type": "markdown",
   "metadata": {},
   "source": [
    "Isso acontece devido à forma como os computadores armazenam os números de ponto flutuante: não tem nada a ver com Python ou com você ter feito algo errado.\n",
    "\n",
    "Mas não se preocupe com isso, esse exemplo foi apenas para que você não se surpreenda em outros momentos.\n",
    "\n",
    "Em disciplinas futuras de computação você poderá entenderá isso melhor."
   ]
  },
  {
   "cell_type": "markdown",
   "metadata": {},
   "source": [
    "-----\n",
    "\n",
    "## Strings\n",
    "\n",
    "Conjuntos de caracteres, em linguagens de programação, são chamados de \"strings\".\n",
    "\n",
    "Strings em Python são qualquer conjunto de caracteres que estejam dentro de aspas."
   ]
  },
  {
   "cell_type": "code",
   "execution_count": null,
   "metadata": {},
   "outputs": [],
   "source": [
    "uma_string = \"essa é uma string válida\"\n",
    "print(uma_string)\n",
    "outra_string = \"Essa também, mesmo contendo números (3 5 4) e símbolos (* $ & @ %)\"\n",
    "print(outra_string)"
   ]
  },
  {
   "cell_type": "markdown",
   "metadata": {},
   "source": [
    "O operador `+` funciona em strings como um concatenador: ele une em uma só as strings que estiverem ao seu redor."
   ]
  },
  {
   "cell_type": "code",
   "execution_count": null,
   "metadata": {},
   "outputs": [],
   "source": [
    "nome = \"Carla\"\n",
    "sobrenome1 = \"Negri\"\n",
    "sobrenome2 = \"Lintzmayer\"\n",
    "print(nome + sobrenome1 + sobrenome2)\n",
    "print(nome + \" \" + sobrenome1 + \" \" + sobrenome2)"
   ]
  },
  {
   "cell_type": "markdown",
   "metadata": {},
   "source": [
    "-----\n",
    "\n",
    "## Mais sobre atribuições\n",
    "\n",
    "Vimos que variáveis podem receber valores (inteiros, pontos flutuantes ou strings).\n",
    "\n",
    "Vimos também que elas podem receber resultados de expressões envolvendo esses valores (`soma = 2 + 5`).\n",
    "\n",
    "Mas variáveis também podem receber resultados de expressões que envolvem outras variáveis. Veja a seguir."
   ]
  },
  {
   "cell_type": "code",
   "execution_count": null,
   "metadata": {},
   "outputs": [],
   "source": [
    "x = 3\n",
    "f = 2 * x + 4\n",
    "print(f)"
   ]
  },
  {
   "cell_type": "markdown",
   "metadata": {},
   "source": [
    "No código anterior, `x` é utilizada na expressão que é atribuída a `f`. Como `x` tem um valor inteiro atribuído à ela, faz sentido multiplicá-la por `2` e então somar esse resultado com `4`.\n",
    "\n",
    "Mais especificamente, o que acontece é o seguinte:\n",
    "\n",
    "+ primeiro é calculado o valor da expressão `2 * x + 4`, onde `x` está bem definido com o valor `3`\n",
    "+ em seguida guarda-se esse resultado na variável `f`\n",
    "\n",
    "Agora veja o código a seguir:"
   ]
  },
  {
   "cell_type": "code",
   "execution_count": null,
   "metadata": {},
   "outputs": [],
   "source": [
    "x = 7\n",
    "print(x)\n",
    "x = x + 4\n",
    "print(x)"
   ]
  },
  {
   "cell_type": "markdown",
   "metadata": {},
   "source": [
    "Achou essa expressão mais estranha que a anterior?\n",
    "\n",
    "Pois o que está acontecendo é exatamente a mesma coisa do exemplo anterior: primeiro é calculado o valor da expressão `x + 4` (onde `x` claramente vale 7) e então esse resultado é atribuído à variável `x` (pois uma variável pode receber qualquer valor).\n",
    "\n",
    "Assim, o novo valor de `x` é o valor anterior que ela tinha somado com o valor 4."
   ]
  },
  {
   "cell_type": "markdown",
   "metadata": {},
   "source": [
    "Execute o exemplo a seguir para ver um erro comum que pode acontecer:"
   ]
  },
  {
   "cell_type": "code",
   "execution_count": null,
   "metadata": {},
   "outputs": [],
   "source": [
    "resultado = 8\n",
    "expressao = resulado**2 + 4"
   ]
  },
  {
   "cell_type": "markdown",
   "metadata": {},
   "source": [
    "Moral da história: você pode usar variáveis em expressões, contanto que as variáveis estejam definidas (isto é, que elas tenham valores atribuídos a elas anteriormente)."
   ]
  },
  {
   "cell_type": "markdown",
   "metadata": {},
   "source": [
    "#### Exemplo\n",
    "\n",
    "Vamos fazer o cálculo de conversão de temperatura de Celsius para Fahrenheit.\n",
    "\n",
    "Se $C$ é o valor da temperatura em graus Celsius, então $\\frac{9}{5}C + 32$ é a temperatura em Fahrenheit.\n",
    "\n",
    "Veja a seguir um programa que faz esse cálculo."
   ]
  },
  {
   "cell_type": "code",
   "execution_count": null,
   "metadata": {},
   "outputs": [],
   "source": [
    "C = 55\n",
    "# a expressão a seguir converte uma temperatura de Celsius para Fahrenheit\n",
    "F = C * 9/5 + 32\n",
    "print(F)"
   ]
  },
  {
   "cell_type": "markdown",
   "metadata": {},
   "source": [
    "Mas e se você quisesse converter 65 em vez de 55? Ou 39, ou 27?\n",
    "\n",
    "Basta voltar na linha em que você definiu `C = 55` e mudar para `C = 65` (ou qualquer outro valor desejado) e reexecutar a célula."
   ]
  },
  {
   "cell_type": "markdown",
   "metadata": {},
   "source": [
    "-----\n",
    "\n",
    "#### Faça você mesmo!\n",
    "\n",
    "Preencha a célula abaixo com os dados que você quiser para calcular a área de um trapézio cuja base menor é $b$, a base maior é $B$ e a altura é $h$.\n",
    "\n",
    "Preencha também a fórmula para a área, que é dada por $$\\frac{(b+B)\\cdot h}{2}.$$\n",
    "\n",
    "Não se esqueça de colocar todos os operadores (por exemplo o `*`)."
   ]
  },
  {
   "cell_type": "code",
   "execution_count": null,
   "metadata": {},
   "outputs": [],
   "source": [
    "b = \n",
    "B = \n",
    "h =\n",
    "area = \n",
    "print(area)"
   ]
  },
  {
   "cell_type": "markdown",
   "metadata": {},
   "source": [
    "### Outro exemplo\n",
    "\n",
    "Em algumas aplicações, é útil fazer troca de valores entre variáveis.\n",
    "\n",
    "Por exemplo, se temos as variáveis `x` com valor `4` e `y` com valor `-9`, vamos querer realizar uma troca de forma que `x` fique com o valor `-9` e `y` fique com o valor `4`.\n",
    "\n",
    "Se fizermos `x = y`, então estaremos atribuindo o valor `-9` a `x` e a primeira parte do problema está resolvida:"
   ]
  },
  {
   "cell_type": "code",
   "execution_count": null,
   "metadata": {},
   "outputs": [],
   "source": [
    "x = 4\n",
    "y = -9\n",
    "print(\"O valor de x é\", x, \"e o valor de y é\", y)\n",
    "x = y\n",
    "print(\"O valor de x é\", x, \"e o valor de y é\", y)"
   ]
  },
  {
   "cell_type": "markdown",
   "metadata": {},
   "source": [
    "Mas agora o valor anterior de `x` (o `4`) se perdeu!\n",
    "\n",
    "Precisamos então de uma variável auxiliar, que guarde o valor anterior de `x` enquanto ele é atualizado para o novo valor."
   ]
  },
  {
   "cell_type": "code",
   "execution_count": null,
   "metadata": {},
   "outputs": [],
   "source": [
    "x = 4\n",
    "y = -9\n",
    "print(\"O valor de x é\", x, \"e o valor de y é\", y)\n",
    "\n",
    "# salve na variável \"aux\" o valor atual de x:\n",
    "aux = x\n",
    "# agora atualize o valor de x:\n",
    "x = y\n",
    "# o valor de y recebe o antigo valor de x, que está salvo em \"aux\":\n",
    "y = aux\n",
    "print(\"O valor de x é\", x, \"e o valor de y é\", y)"
   ]
  },
  {
   "cell_type": "markdown",
   "metadata": {},
   "source": [
    "-----\n",
    "\n",
    "## Entrada e saída\n",
    "\n",
    "Todo programa de computador\n",
    "+ recebe dados de alguma fonte (teclado, mouse, arquivo, etc.),\n",
    "+ processa esses dados e,\n",
    "+ envia o resultado do processamento para algum lugar (tela, arquivo, impressora, web, etc.).\n",
    "\n",
    "Então, quando tratamos do fluxo de dados por um programa de computador, é comum classificar os dados como\n",
    "+ dados de entrada: são aqueles que o programa **recebe**\n",
    "+ dados de saída: são aqueles que programa **mostra** ao usuário.\n",
    "\n",
    "### Mostrando dados (saída)\n",
    "\n",
    "A forma mais comum de mostrar dados ao usuário é usando a função `print()`, que já estamos usando."
   ]
  },
  {
   "cell_type": "code",
   "execution_count": null,
   "metadata": {},
   "outputs": [],
   "source": [
    "C = 55\n",
    "F = C * 9 / 5 + 32\n",
    "print(F)"
   ]
  },
  {
   "cell_type": "markdown",
   "metadata": {},
   "source": [
    "Ela pode receber vários valores entre vírgulas para imprimir."
   ]
  },
  {
   "cell_type": "code",
   "execution_count": null,
   "metadata": {},
   "outputs": [],
   "source": [
    "C = 55\n",
    "F = C * 9 / 5 + 32\n",
    "print(C, \"graus Celcius equivale a\", F, \"Fahrenheit\")"
   ]
  },
  {
   "cell_type": "markdown",
   "metadata": {},
   "source": [
    "### Recebendo dados (entrada)\n",
    "\n",
    "É importante também que você seja capaz de obter dados do usuário.\n",
    "\n",
    "Para ler um texto escrito pelo usuário, use a função `input()`. Veja os exemplos:"
   ]
  },
  {
   "cell_type": "code",
   "execution_count": null,
   "metadata": {},
   "outputs": [],
   "source": [
    "nome = input(\"Qual é  seu nome? \")\n",
    "print(\"Olá,\", nome)"
   ]
  },
  {
   "cell_type": "markdown",
   "metadata": {},
   "source": [
    "No código a seguir, tente entender o erro antes de prosseguir com a explicação:"
   ]
  },
  {
   "cell_type": "code",
   "execution_count": null,
   "metadata": {},
   "outputs": [],
   "source": [
    "idade = input(\"Qual é a sua idade? \")\n",
    "dobro = idade + idade\n",
    "print(\"O dobro da sua idade é\", dobro)"
   ]
  },
  {
   "cell_type": "markdown",
   "metadata": {},
   "source": [
    "Se você digitou o valor, por exemplo, 18, então a resposta foi 1818 (ao invés de 36).\n",
    "\n",
    "O que acontece é que o Python assume que a entrada é uma string, independente do conteúdo."
   ]
  },
  {
   "cell_type": "markdown",
   "metadata": {},
   "source": [
    "E o que fazer se queremos lidar com números ao invés de texto?\n",
    "\n",
    "Basta converter o texto para um número:"
   ]
  },
  {
   "cell_type": "code",
   "execution_count": null,
   "metadata": {},
   "outputs": [],
   "source": [
    "idade_texto = input(\"Qual é a sua idade? \")\n",
    "idade = int(idade_texto)\n",
    "dobro = idade + idade\n",
    "print(\"O dobro da sua idade é\", dobro)"
   ]
  },
  {
   "cell_type": "markdown",
   "metadata": {},
   "source": [
    "<font size=\"4\">\n",
    "<p>A linha `idade = int(idade_texto)` converte idade_texto para o tipo inteiro e guarda o resultado em `idade`.</p>\n",
    "\n",
    "<p>Escolhemos converter para inteiro pois consideramos idade como sendo um número inteiro.</p>\n",
    "\n",
    "<p>Se você precisar que o dado lido seja um número decimal, você pode fazer o seguinte:</p>\n",
    "</font>"
   ]
  },
  {
   "cell_type": "code",
   "execution_count": null,
   "metadata": {},
   "outputs": [],
   "source": [
    "temp_texto = input(\"Qual é a temperatura atual? \")\n",
    "temp = float(temp_texto)\n",
    "dobro = temp + temp\n",
    "print(\"O dobro da temperatura atual é\", dobro)"
   ]
  },
  {
   "cell_type": "markdown",
   "metadata": {},
   "source": [
    "#### Faça você mesmo!\n",
    "\n",
    "Escreva na célula abaixo um programa que auxilia na hora de fazer uma venda. Seu programa deve:\n",
    "1. perguntar e receber o preço do produto;\n",
    "1. perguntar e receber o número de parcelas em que o cliente deseja pagar (sem juros);\n",
    "1. mostrar o valor de cada parcela."
   ]
  },
  {
   "cell_type": "code",
   "execution_count": null,
   "metadata": {},
   "outputs": [],
   "source": []
  },
  {
   "cell_type": "markdown",
   "metadata": {},
   "source": [
    "-----\n",
    "\n",
    "## Listas\n",
    "\n",
    "Uma lista é uma coleção de valores quaisquer, mantidos em ordem. Ela é armazenada em uma única variável."
   ]
  },
  {
   "cell_type": "code",
   "execution_count": null,
   "metadata": {
    "scrolled": true
   },
   "outputs": [],
   "source": [
    "lista = [\"primeiro\", \"segundo\", \"terceiro\"]\n",
    "print(lista)"
   ]
  },
  {
   "cell_type": "markdown",
   "metadata": {},
   "source": [
    "Apesar de uma lista poder manter valores de qualquer tipo, é interessante que eles tenham alguma relação entre si."
   ]
  },
  {
   "cell_type": "code",
   "execution_count": null,
   "metadata": {},
   "outputs": [],
   "source": [
    "aula = [\"terça-feira\", 8, \"salaX\", \"Carla\"]"
   ]
  },
  {
   "cell_type": "markdown",
   "metadata": {},
   "source": [
    "Os valores são mantidos em ordem, como dissemos antes, e por isso eles podem ser acessados por meio de índices inteiros.\n",
    "\n",
    "Em várias linguagens de computação, incluindo Python, o primeiro elemento da lista sempre está na posição 0.\n",
    "\n",
    "De forma geral: o i-ésimo elemento armazenado está na posição i-1."
   ]
  },
  {
   "cell_type": "code",
   "execution_count": null,
   "metadata": {},
   "outputs": [],
   "source": [
    "print(lista)\n",
    "print(lista[0])\n",
    "print(lista[1])\n",
    "print(lista[2])"
   ]
  },
  {
   "cell_type": "code",
   "execution_count": null,
   "metadata": {},
   "outputs": [],
   "source": [
    "print(\"A aula acontece toda\", aula_bases[0], \"na sala\", aula_bases[2])"
   ]
  },
  {
   "cell_type": "markdown",
   "metadata": {},
   "source": [
    "### Listas numéricas\n",
    "\n",
    "Em várias aplicações é útil criar listas que contêm apenas números.\n",
    "\n",
    "Por exemplo, a lista a seguir contém os 10 primeiros números inteiros."
   ]
  },
  {
   "cell_type": "code",
   "execution_count": null,
   "metadata": {},
   "outputs": [],
   "source": [
    "primeiros_10 = [1, 2, 3, 4, 5, 6, 7, 8, 9, 10]\n",
    "print(primeiros_10)"
   ]
  },
  {
   "cell_type": "markdown",
   "metadata": {},
   "source": [
    "É até fácil criá-la, mas e se precisássemos de uma lista com os 100 primeiros números inteiros? E os primeiros 1000? E os primeiros $n$?\n",
    "    \n",
    "Para isso, o Python fornece o comando `range()`.\n",
    "\n",
    "Seu resultado não é exatamente uma lista, mas podemos usar o comando `list()` para convertê-lo (como fizemos com `int()` e `float()` sobre o resultado do `input()`)."
   ]
  },
  {
   "cell_type": "code",
   "execution_count": null,
   "metadata": {},
   "outputs": [],
   "source": [
    "primeiros_10 = list(range(1,11))\n",
    "print(primeiros_10)\n",
    "primeiros_100 = list(range(1,101))\n",
    "print(primeiros_100)"
   ]
  },
  {
   "cell_type": "markdown",
   "metadata": {},
   "source": [
    "Note que `range(x,y)` cria uma lista com valores entre `x` e `y-1` (e não `y`)."
   ]
  },
  {
   "cell_type": "code",
   "execution_count": null,
   "metadata": {},
   "outputs": [],
   "source": [
    "lista = list(range(6,17))\n",
    "print(lista)"
   ]
  },
  {
   "cell_type": "markdown",
   "metadata": {},
   "source": [
    "Se especificarmos um único valor, `range(x)`, o que teremos é uma lista com valores entre `0` e `x-1`."
   ]
  },
  {
   "cell_type": "code",
   "execution_count": null,
   "metadata": {},
   "outputs": [],
   "source": [
    "lista = list(range(7))\n",
    "print(lista)"
   ]
  },
  {
   "cell_type": "markdown",
   "metadata": {},
   "source": [
    "Podemos ainda especificar um terceiro valor, que indica qual a diferença entre dois números da lista.\n",
    "    \n",
    "Isto é, `range(x,y,z)` cria uma lista que só possui valores entre `x` e `y-1`, começando em `x` e seguindo a cada `z` unidades."
   ]
  },
  {
   "cell_type": "code",
   "execution_count": null,
   "metadata": {},
   "outputs": [],
   "source": [
    "lista = list(range(6,17,2))\n",
    "print(lista)\n",
    "lista = list(range(6,17,3))\n",
    "print(lista)"
   ]
  },
  {
   "cell_type": "markdown",
   "metadata": {},
   "source": [
    "## Agora é a sua vez!\n",
    "\n",
    "Resolva a lista de exercícios para fixar melhor todo esse conteúdo!\n",
    "\n",
    "Boa sorte e não se esqueça de ir ao horário de atendimento da professora caso esteja com dúvidas ou tenha algum problema."
   ]
  }
 ],
 "metadata": {
  "kernelspec": {
   "display_name": "Python 3",
   "language": "python",
   "name": "python3"
  },
  "language_info": {
   "codemirror_mode": {
    "name": "ipython",
    "version": 3
   },
   "file_extension": ".py",
   "mimetype": "text/x-python",
   "name": "python",
   "nbconvert_exporter": "python",
   "pygments_lexer": "ipython3",
   "version": "3.5.2"
  }
 },
 "nbformat": 4,
 "nbformat_minor": 1
}
