{
 "cells": [
  {
   "cell_type": "markdown",
   "metadata": {},
   "source": [
    "<font size=4>\n",
    "<h1>Exercícios (para serem entregues)</h1>\n",
    "\n",
    "<p>Agora é sua vez: faça os exercícios para praticar os conceitos vistos na primeira aula de introdução à programação.</p>\n",
    "\n",
    "<p>Lembre-se de <b>salvar</b> sempre o seu notebook. Ele deverá ser <b>entregue pelo tidia</b> para que você receba sua nota!</p>\n",
    "\n",
    "</font>"
   ]
  },
  {
   "cell_type": "markdown",
   "metadata": {},
   "source": [
    "<h2>Questão 0 (exemplo)</h2>\n",
    "<p>Leia os gastos com cada refeição de um usuário e mostre o total gasto no dia.</p>\n",
    "\n",
    "<p><b>Entrada:</b> O programa deve receber o preço pago no almoço e em seguida o preço pago na janta, que são valores decimais.</p>\n",
    "\n",
    "<p><b>Saída:</b> A resposta deve ser no formato `Valor total gasto: x`, onde $x$ deve ser devidamente substituído.</p>\n"
   ]
  },
  {
   "cell_type": "code",
   "execution_count": null,
   "metadata": {},
   "outputs": [],
   "source": [
    "almoco = float(input(\"Entre com o valor gasto no almoço: \"))\n",
    "janta = float(input(\"Entre com o valor gasto na janta: \"))\n",
    "total = almoco + janta\n",
    "print(\"Valor total gasto:\", total)"
   ]
  },
  {
   "cell_type": "markdown",
   "metadata": {},
   "source": [
    "<h2>Questão 1</h2>\n",
    "<p>Leia um número inteiro e escreva o seu sucessor e seu antecessor.</p>\n",
    "\n",
    "<p><b>Entrada:</b> O programa deve receber um único número inteiro $x$.</p>\n",
    "\n",
    "<p><b>Saída:</b> A resposta deverá ser no formato `O sucessor de x é s e o antecessor é a`, onde $x$, $s$, e $a$ devem ser devidamente substituídos.</p>\n"
   ]
  },
  {
   "cell_type": "code",
   "execution_count": null,
   "metadata": {},
   "outputs": [],
   "source": [
    "x = int(input(\"Digite um número:\"))\n",
    "s = x + 1\n",
    "a = x - 1\n",
    "print(\"O sucessor de\", x, \"é\", s, \"e o antecessor é\", a)"
   ]
  },
  {
   "cell_type": "markdown",
   "metadata": {},
   "source": [
    "<h2>Questão 2</h2>\n",
    "\n",
    "<p>Calcule o perímetro de um círculo.</p>\n",
    "\n",
    "<p><b>Entrada:</b> O programa deve receber o raio do círculo (número decimal).</p>\n",
    "    \n",
    "<p><b>Saída:</b> A resposta deverá ser no formato `O perímetro do círculo é x`, onde $x$ deve ser devidamente substituído.</p>\n",
    "\n",
    "obs.: Use  o valor `3.1415926` para $\\pi$ (atenção para o ponto ao invés de vírgula!). A fórmula para o perímetro é $2 \\pi r$, onde $r$ é o raio do círculo."
   ]
  },
  {
   "cell_type": "code",
   "execution_count": null,
   "metadata": {},
   "outputs": [],
   "source": [
    "r = float(input(\"Digite o raio do círculo:\"))\n",
    "x = 2 * 3.1415926 * r\n",
    "print(\"O perímetro do circulo é\", x)"
   ]
  },
  {
   "cell_type": "markdown",
   "metadata": {},
   "source": [
    "<h2>Questão 3</h2>\n",
    "<p>Calcule a autonomia de um carro com tanque cheio.</p>\n",
    "\n",
    "<p><b>Entrada:</b> O programa deve receber a capacidade do tanque de gasolina do carro (em litros) e em seguida o consumo de gasolina (em km/l).</p>\n",
    "\n",
    "<p><b>Saída:</b> A resposta deverá ser um único número decimal, que indica a autonomia do carro.</p>"
   ]
  },
  {
   "cell_type": "code",
   "execution_count": null,
   "metadata": {},
   "outputs": [],
   "source": [
    "capacidade = float(input(\"Qual a capacidade do tanque do carro em litros?\"))\n",
    "consumo = float(input(\"Qual o consumo do carro para percorrer 1 km?\"))\n",
    "autonomia = capacidade * consumo\n",
    "print(\"Autonomia do carro é\", autonomia, \"km/L\")"
   ]
  },
  {
   "cell_type": "markdown",
   "metadata": {},
   "source": [
    "<h2>Questão 4</h2>\n",
    "\n",
    "<p>Calcule o volume de uma esfera.</p>\n",
    "\n",
    "<p><b>Entrada:</b> O programa deve receber o raio da esfera (número decimal).</p>\n",
    "    \n",
    "<p><b>Saída:</b> A resposta deverá ser no formato `O volume da esfera é x`, onde $x$ deve ser devidamente substituído.\n",
    "\n",
    "obs: lembre-se de que a fórmula para o cálculo do volume de uma esfera de raio $R$ é $$\\frac{4 \\pi R^3}{3}.$$"
   ]
  },
  {
   "cell_type": "code",
   "execution_count": null,
   "metadata": {},
   "outputs": [],
   "source": [
    "r = float(input(\"Qual é o raio da esfera?\"))\n",
    "x = (4 * 3.1415926 * r ** 3)/3 \n",
    "print(\"O volume da esfera é\", x)"
   ]
  },
  {
   "cell_type": "markdown",
   "metadata": {},
   "source": [
    "<h2>Questão 5</h2>\n",
    "\n",
    "<p> Calcule a média final de um aluno de Bases Computacionais da Ciência. Lembre-se de que a prova vale 45% da nota, o trabalho vale 35% e os exercícios valem 20%. </p>\n",
    "\n",
    "<p><b>Entrada:</b> O programa deve receber primeiro a nota da prova (decimal), em seguida a nota do trabalho (decimal) e por último a média dos exercícios (decimal).</p>\n",
    "    \n",
    "<p><b>Saída:</b> A resposta deverá ser um único valor decimal, que é a média final do aluno.</p>"
   ]
  },
  {
   "cell_type": "code",
   "execution_count": null,
   "metadata": {},
   "outputs": [],
   "source": [
    "prova = float(input(\"Qual a nota da prova?\"))\n",
    "trabalho = float(input(\"Qual a nota do trabalho?\"))\n",
    "exercicios = float(input(\"Qual a média dos exercícios?\"))\n",
    "media = prova * 0.45 + trabalho * 0.35 + exercicios * 0.20\n",
    "print(\"A média final é\", media)"
   ]
  },
  {
   "cell_type": "markdown",
   "metadata": {},
   "source": [
    "<h2>Questão 6</h2>\n",
    "<p> Calcule a distância entre dois pontos quaisquer do plano $(x_1,y_1)$ e $(x_2,y_2)$, segundo a fórmula $$\\sqrt{(x_2 - x_1)^2 + (y_2 - y_1)^2}.$$</p>\n",
    "\n",
    "<p><b>Entrada:</b> O programa deverá receber quatro valores decimais quaisquer $x_1$, $y_1$, $x_2$ e $y_4$, nessa ordem, que representam os pontos $(x_1,y_1)$ e $(x_2,y_2)$.</p>\n",
    "\n",
    "<p><b>Saída:</b> A resposta deverá ser um único valor decimal, que indica a distância entre os pontos.</p>\n",
    "\n",
    "<p><i>Dica:</i> $\\sqrt{n}$ é equivalente a $n^{0.5}$, para qualquer valor $n$.</p>"
   ]
  },
  {
   "cell_type": "code",
   "execution_count": null,
   "metadata": {},
   "outputs": [],
   "source": [
    "x1 = float(input(\"Digite o valor de x1:\"))\n",
    "y1 = float(input(\"Digite o valor de y1:\"))\n",
    "x2 = float(input(\"Digite o valor de x2:\"))\n",
    "y2 = float(input(\"Digite o valor de y2:\"))\n",
    "distancia = (((x2 - x1)**2 + (y2 - y1)**2))**0.5\n",
    "print(\"A distância entre os pontos é de\", distancia)"
   ]
  },
  {
   "cell_type": "markdown",
   "metadata": {},
   "source": [
    "<h2>Questão 7</h2>\n",
    "\n",
    "<p>Alice tem várias moedas de 1 real e ela quer distribuí-las entre seus 3 irmãos mais novos.</p>\n",
    "\n",
    "<p>Para não ter briga, ela vai distribuir o máximo possível desde que todos eles recebam exatamente o mesmo número de moedas.</p>\n",
    "\n",
    "<p>Isso significa que podem sobrar algumas moedas sem distribuir.</p>\n",
    "\n",
    "<p>Faça um programa que calcule quantas moedas cada irmão recebeu e quantas moedas sobraram.<p>\n",
    "    \n",
    "<p><b>Entrada:</b> O programa deve receber o número de moedas que Alice tem.</p>\n",
    "\n",
    "<p><b>Saída:</b> A resposta deverá ser no formato `Cada irmão recebeu x moedas e sobraram y moedas com Alice`, onde $x$ e $y$ devem ser devidamente substituídos.</p>\n",
    "\n",
    "*Dica:* use o operador de divisão inteira `//` e o operador de resto `%`."
   ]
  },
  {
   "cell_type": "code",
   "execution_count": null,
   "metadata": {},
   "outputs": [],
   "source": [
    "m = int(input(\"Quantas moedas de 1 real Alice tem?\"))\n",
    "x = m // 3 \n",
    "y = m % 3\n",
    "print(\"Cada irmão recebeu\", x, \"moedas e sobraram\", y, \"moedas com Alice\")"
   ]
  },
  {
   "cell_type": "markdown",
   "metadata": {},
   "source": [
    "<h2>Questão 8</h2>\n",
    "\n",
    "<p>Dada a duração, em segundos, de um determinado evento em uma fábrica, informe essa duração em horas, minutos e segundos.</p>\n",
    "\n",
    "<p><b>Entrada:</b> O programa deve receber um valor inteiro, que é o tempo de duração em segundos do evento.</p>\n",
    "\n",
    "<p><b>Saída:</b> A resposta deverá ser no formato `horas:minutos:segundos`, onde $horas$, $minutos$ e $segundos$ devem ser devidamente substituídos.</p>"
   ]
  },
  {
   "cell_type": "code",
   "execution_count": null,
   "metadata": {},
   "outputs": [],
   "source": [
    "segundosTotais = int(input(\"Quantos segundos durou o evento?\"))\n",
    "h = segundosTotais // 3600\n",
    "m = (segundosTotais - h * 3600) // 60\n",
    "s = segundosTotais - ((h*3600)+(m*60))\n",
    "print(h,\":\",m,\":\",s)\n"
   ]
  },
  {
   "cell_type": "markdown",
   "metadata": {},
   "source": [
    "<h2>Questão 9</h2>\n",
    "\n",
    "<p>Faça um programa que mostra os números ímpares entre dois números.</p>\n",
    "\n",
    "<p><b>Entrada:</b> O programa deve receber dois números inteiros $x$ e $y$. Considere que $x$ é sempre ímpar.</p>\n",
    "\n",
    "<p><b>Saída:</b> A resposta deverá ser uma lista que contém os números ímpares entre $x$ e $y$, inclusive o $x$ (e o $y$, se for o caso).</p>"
   ]
  },
  {
   "cell_type": "code",
   "execution_count": null,
   "metadata": {},
   "outputs": [],
   "source": [
    "x = int(input(\"Digite um número ímpar:\"))\n",
    "y = int(input(\"Digite outro número:\"))\n",
    "lista = list(range(x, y+1, 2))\n",
    "print(lista)"
   ]
  },
  {
   "cell_type": "markdown",
   "metadata": {},
   "source": [
    "<h2>Questão 10</h2>\n",
    "\n",
    "<p>Faça um programa determine o maior dentre três números. Você deve utilizar a fórmula $\\frac{a+b+abs(a-b)}{2}$,  que indica o maior valor dentre dois valores $a$ e $b$, onde $abs(x)$ é igual a $x$ se $x>0$, ou é igual a $-x$, se $x < 0$. <i>Dica:</i> Python fornece `abs(x)`.</p>\n",
    "\n",
    "<p><b>Entrada:</b> O programa deve receber três valores inteiros quaisquer $x$, $y$ e $z$.</p>\n",
    "\n",
    "<p><b>Saída:</b> A resposta consistirá em uma única linha, contendo o texto `K é o maior`, onde $K$ deve ser corretamente substituído.</p>"
   ]
  },
  {
   "cell_type": "code",
   "execution_count": null,
   "metadata": {},
   "outputs": [],
   "source": [
    "x = int(input(\"Digite x:\"))\n",
    "y = int(input(\"Digite y:\"))\n",
    "z = int(input(\"Digite z:\"))\n",
    "maior = (x+y+abs(x-y))/2\n",
    "k = (maior+z+abs(maior-z))/2\n",
    "print(int(k),\"é o maior\")"
   ]
  }
 ],
 "metadata": {
  "kernelspec": {
   "display_name": "Python 3",
   "language": "python",
   "name": "python3"
  },
  "language_info": {
   "codemirror_mode": {
    "name": "ipython",
    "version": 3
   },
   "file_extension": ".py",
   "mimetype": "text/x-python",
   "name": "python",
   "nbconvert_exporter": "python",
   "pygments_lexer": "ipython3",
   "version": "3.7.3"
  },
  "widgets": {
   "state": {},
   "version": "1.1.2"
  }
 },
 "nbformat": 4,
 "nbformat_minor": 1
}
