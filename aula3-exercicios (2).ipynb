{
 "cells": [
  {
   "cell_type": "markdown",
   "metadata": {},
   "source": [
    "<font size=4>\n",
    "<h1>Exercícios (para serem entregues)</h1>\n",
    "\n",
    "<p>Agora é sua vez: faça os exercícios para praticar os conceitos vistos na aula sobre comandos condicionais.</p>\n",
    "\n",
    "<p>Lembre-se de <b>salvar</b> sempre o seu notebook. Ele deverá ser <b>entregue pelo tidia</b> para que você receba sua nota!</p>\n",
    "\n",
    "</font>"
   ]
  },
  {
   "cell_type": "markdown",
   "metadata": {},
   "source": [
    "<h2>Questão 0 (exemplo)</h2>\n",
    "    \n",
    "<p>Dizemos que dois números inteiros $a$ e $b$ são múltiplos se $a$ é divisível por $b$ ou vice versa.</b>\n",
    "\n",
    "<p>Faça um programa que verifique se dois números são múltiplos ou não.</p>\n",
    "\n",
    "<p><b>Entrada:</b> O programa deverá ler um inteiro $a$ e em seguida outro inteiro $b$.</p>\n",
    "\n",
    "<p><b>Saída:</b> A resposta deverá ser no formato conforme os exemplos a seguir.</p>\n",
    "\n",
    "<p>Exemplos:</p>\n",
    "<ul>\n",
    "    <li>4 e 2 são múltiplos</li>\n",
    "    <li>2 e 4 são múltiplos</li>\n",
    "    <li>2 e 3 não são múltiplos</li>\n",
    "</ul>"
   ]
  },
  {
   "cell_type": "code",
   "execution_count": null,
   "metadata": {},
   "outputs": [],
   "source": [
    "a = int(input())\n",
    "b = int(input())\n",
    "if a % b == 0 or b % a == 0:\n",
    "    print(a, \"e\", b, \"são múltiplos\")\n",
    "else:\n",
    "    print(a, \"e\", b, \"não são múltiplos\")"
   ]
  },
  {
   "cell_type": "markdown",
   "metadata": {},
   "source": [
    "<h2>Questão 1</h2>\n",
    "\n",
    "<p>Alice e Bob querem jogar par ou ímpar.</p>\n",
    "\n",
    "<p>Alice sempre aposta no par e Bob no ímpar.</p>\n",
    "\n",
    "<p>Faça um programa que mostre quem é o ganhador em um jogo dos dois.</p>\n",
    "\n",
    "<p><b>Entrada:</b> O programa deve receber inicialmente um inteiro, que é o valor escolhido pela Alice, e em seguida outro inteiro, que é o valor escolhido por Bob.</p>\n",
    "\n",
    "<p><b>Saída:</b> A resposta deverá ser o nome do ganhador do jogo.</p>"
   ]
  },
  {
   "cell_type": "code",
   "execution_count": null,
   "metadata": {},
   "outputs": [],
   "source": [
    "alice = int(input(\"Número de Alice:\"))\n",
    "bob = int(input(\"Número de Bob:\"))\n",
    "if (alice+bob) % 2 == 0:\n",
    "    print(\"Alice\")\n",
    "else:\n",
    "    print(\"Bob\")"
   ]
  },
  {
   "cell_type": "markdown",
   "metadata": {},
   "source": [
    "<h2>Questão 2</h2>\n",
    "\n",
    "<p>Faça um programa que ordene 3 números.</p>\n",
    "\n",
    "<p><b>Entrada:</b> O programa deve receber três números.</p>\n",
    "\n",
    "<p><b>Saída:</b> A reposta deve ser os três números, escritos na mesma linha, em ordem crescente.</p>"
   ]
  },
  {
   "cell_type": "code",
   "execution_count": null,
   "metadata": {
    "scrolled": true
   },
   "outputs": [],
   "source": [
    "x = int(input(\"Digite x:\"))\n",
    "y = int(input(\"Digite y:\"))\n",
    "z = int(input(\"Digite z:\"))\n",
    "if x > y and y > z:\n",
    "    print(z,\",\", y,\",\", x)\n",
    "elif x > z and z > y:\n",
    "    print(y,\",\", z,\",\", x)\n",
    "elif y > z and z > x:\n",
    "    print(x,\",\", z,\",\", y)\n",
    "elif y > z and x > z:\n",
    "    print(z,\",\", x,\",\", y)\n",
    "elif z > x and x > y:\n",
    "    print(y,\",\", x,\",\", z)\n",
    "else:\n",
    "    print(x,\",\", y,\",\", z)"
   ]
  },
  {
   "cell_type": "markdown",
   "metadata": {},
   "source": [
    "<h2>Questão 3</h2>\n",
    "\n",
    "<p>Escreva um programa que, dadas a nota da prova, do trabalho e dos exercícios de um aluno de Bases Computacionais da Ciência, calcula o conceito final desse aluno antes da recuperação.</p>\n",
    "\n",
    "<p>Recapitulando, a média final é dada pela fórmula $$\\mbox{MF} = 0.45 \\times P + 0.35 \\times T + 0.2 \\times L$$ sendo $P$ a nota da prova, $T$ a nota do trabalho e $L$ a média das listas de exercícios.</p>\n",
    "\n",
    "<p>E o conceito final é<p>\n",
    "\t\n",
    "\t<div align=\"center\">\n",
    "    <tt>A</tt>, se <tt>MF &geq; 8.5</tt><br>\n",
    "    <tt>B</tt>, se <tt>7.0 &leq; MF &lt; 8.5</tt><br>\n",
    "    <tt>C</tt>, se <tt>6.0 &leq; MF &lt; 7.0</tt><br>\n",
    "    <tt>D</tt>, se <tt>5.0 &leq; MF &lt; 6.0</tt><br>\n",
    "    <tt>F</tt>, se <tt>0.0 &leq; MF &lt; 5.0</tt><br>\n",
    "    </div>\n",
    "\n",
    "\n",
    "<p><b>Entrada:</b> O programa deverá receber três números decimais positivos maiores ou iguais a 0 e menores ou iguais a 10, nessa ordem: $P$, $T$ e $L$.</p>\n",
    "\n",
    "<p><b>Saída:</b> A resposta deverá ser escrita no formato `Conceito final = X`, onde $X$ deve ser devidamente substituído.</p>\n"
   ]
  },
  {
   "cell_type": "code",
   "execution_count": null,
   "metadata": {},
   "outputs": [],
   "source": [
    "p = float(input(\"Digite a nota da prova:\"))\n",
    "t = float(input(\"Digite a nota do trabalho:\"))\n",
    "l = float(input(\"Digite a nota das listas de exercícios:\"))\n",
    "mf = 0.45 * p + 0.35 * t + 0.2 * l\n",
    "if mf <= 5:\n",
    "    x = \"F\"\n",
    "elif mf <= 6:\n",
    "    x = \"D\"\n",
    "elif mf <= 7:\n",
    "    x = \"C\"\n",
    "elif mf <= 8.5:\n",
    "    x = \"B\"\n",
    "else:\n",
    "    x = \"A\"\n",
    "print(\"Conceito final = \", x)"
   ]
  },
  {
   "cell_type": "markdown",
   "metadata": {},
   "source": [
    "<h2>Questão 4</h2>\n",
    "\n",
    "<p>A empresa ABC resolveu conceder um aumento de salários a seus funcionários de acordo com as regras abaixo:</p>\n",
    "<ul>\n",
    "    <li>Se o salário está entre 0 e 400.00, então o reajuste é de 15%</li>\n",
    "    <li>Se o salário está entre 400.01 e 800.00, então o reajuste é de 12%</li>\n",
    "    <li>Se o salário está entre 800.01 e 1200.00, então o reajuste é de 10%</li>\n",
    "    <li>Se o salário está entre 1200.01 e 2000.00, então o reajuste é de 7%</li>\n",
    "    <li>Se o salário está acima de 2000.00, então o reajuste é de 4%</li>\n",
    "</ul>\n",
    "\n",
    "<p>Faça um programa que calcule o novo salário de um funcinário, bem como o valor de reajuste ganho e o índice reajustado, em percentual.</p>\n",
    "\n",
    "<p><b>Entrada:</b> O programa deve receber um único valor decimal, que indica o salário atual do empregado.</p>\n",
    "\n",
    "<p><b>Saída:</b> A resposta consistirá de 3 linhas. A primeira deve ter o texto `Novo salario:` seguido do novo salário. A segunda deve ter o texto `Reajuste ganho:` seguido do valor do reajuste. E a terceira linha deve ter o texto `Em percentual:` seguido do percentual do reajuste ganho.</p>"
   ]
  },
  {
   "cell_type": "code",
   "execution_count": 4,
   "metadata": {},
   "outputs": [
    {
     "name": "stdout",
     "output_type": "stream",
     "text": [
      "Qual é o salário atual do empregado?689\n",
      "Novo salário: 771.68 reais.\n",
      "Reajuste ganho: 82.67999999999999 reais.\n",
      "Em percentual: 12.0 %\n"
     ]
    }
   ],
   "source": [
    "salario = float(input(\"Qual é o salário atual do empregado?\"))\n",
    "if salario <= 400.00:\n",
    "    print(\"Novo salário:\", salario*0.15+salario,\"reais.\")\n",
    "    print(\"Reajuste ganho:\", salario*0.15,\"reais.\")\n",
    "    print(\"Em percentual:\", (salario*0.15)*100/salario, \"%\")\n",
    "elif salario <= 800.00:\n",
    "    print(\"Novo salário:\", salario*0.12+salario,\"reais.\")\n",
    "    print(\"Reajuste ganho:\", salario*0.12,\"reais.\")\n",
    "    print(\"Em percentual:\", (salario*0.12)*100/salario, \"%\")\n",
    "elif salario <= 1200.00:\n",
    "    print(\"Novo salário:\", salario*0.10+salario,\"reais.\")\n",
    "    print(\"Reajuste ganho:\", salario*0.10,\"reais.\")\n",
    "    print(\"Em percentual:\", (salario*0.10)*100/salario, \"%\")\n",
    "elif salario <= 2000.00:\n",
    "    print(\"Novo salário:\", salario*0.07+salario,\"reais.\")\n",
    "    print(\"Reajuste ganho:\", salario*0.07,\"reais.\")\n",
    "    print(\"Em percentual:\", (salario*0.07)*100/salario, \"%\")\n",
    "else:\n",
    "    print(\"Novo salário:\", salario*0.04+salario,\"reais.\")\n",
    "    print(\"Reajuste ganho:\", salario*0.04,\"reais.\")\n",
    "    print(\"Em percentual:\"(salario*0.04)*100/salario, \"%\")"
   ]
  },
  {
   "cell_type": "markdown",
   "metadata": {},
   "source": [
    "<h2>Questão 5</h2>\n",
    "\n",
    "<p>Faça um programa que indique se um ano é bissexto ou não.</p>\n",
    "\n",
    "<p>OBS: Todos os anos múltiplos de 400 são bissextos. Não sendo múltiplo de 400, são bissextos todos os anos múltiplos de  4 mas que não são múltiplos de 100.</p>\n",
    "\n",
    "<p><b>Entrada:</b> O programa deve receber um único número inteiro que representa o ano desejado.</p>\n",
    "\n",
    "<p><b>Saída:</b> A resposta deverá ser a palavra `sim` ou `não`, indicando se o ano dado é bissexto ou não.</p>"
   ]
  },
  {
   "cell_type": "code",
   "execution_count": null,
   "metadata": {},
   "outputs": [],
   "source": [
    "ano = int(input(\"Digite o ano desejado:\"))\n",
    "if ano % 400 == 0:\n",
    "    print(\"Sim\")\n",
    "elif ano % 4 == 0 and ano % 100 != 0:\n",
    "    print(\"Sim\")\n",
    "else:\n",
    "    print(\"Não\")"
   ]
  },
  {
   "cell_type": "markdown",
   "metadata": {},
   "source": [
    "<h2>Questão 6</h2>\n",
    "\n",
    "<p>Escreva um programa que determina a data cronologicamente maior de duas datas fornecidas pelo usuário.</p>\n",
    "\n",
    "<p><b>Entrada:</b> O programa deve receber seis valores inteiros, onde os três primeiros representam o dia, mês e ano da primeira data e os três últimos representam o dia, mês e ano da segunda data.</p>\n",
    "\n",
    "<p><b>Saída:</b> A resposta deverá ser uma única linha com o texto `dd/mm/aaaa`, indicando corretamente a maior das duas datas.</p>"
   ]
  },
  {
   "cell_type": "code",
   "execution_count": null,
   "metadata": {},
   "outputs": [],
   "source": [
    "d1 = int(input(\"Digite o dia do ano 1:\"))\n",
    "m1 = int(input(\"Digite o mês do ano 1:\"))\n",
    "a1 = int(input(\"Digite o ano 1:\"))\n",
    "d2 = int(input(\"Digite o dia do ano 2:\"))\n",
    "m2 = int(input(\"Digite o mês do ano 2:\"))\n",
    "a2 = int(input(\"Digite o ano 2:\"))\n",
    "if a1 > a2:\n",
    "    print(d1,\"/\",m1,\"/\",a1)\n",
    "elif a2 > a1:\n",
    "    print(d2,\"/\",m2,\"/\",a2)\n",
    "elif a1 == a2 and m1 > m2:\n",
    "    print(d1,\"/\",m1,\"/\",a1)\n",
    "elif a1 == a2 and m2 > m1:\n",
    "    print(d2,\"/\",m2,\"/\",a2)\n",
    "elif a1 == a2 and m1 == m2 and d1 > d2:\n",
    "    print(d1,\"/\",m1,\"/\",a1)\n",
    "elif a1==a2 and m1==m2 and d1==d2:\n",
    "    print(\"As datas são iguais.\")\n",
    "else:\n",
    "    print(d2,\"/\",m2,\"/\",a2)"
   ]
  },
  {
   "cell_type": "markdown",
   "metadata": {},
   "source": [
    "<h2>Questão 7</h2>\n",
    "\n",
    "<p>Sequência de inteiros entre dois números.</p>\n",
    "\n",
    "<p><b>Entrada:</b> O programa deve receber dois inteiros $m$ e $n$ (não necessariamente um é menor que o outro). Você pode considerar que $m > 0$ e $n > 0$.</p>\n",
    "\n",
    "<p><b>Saída:</b> A resposta deve ser uma lista contendo todos os inteiros que existem do menor dentre $m$ e $n$ até o maior deles (incluindo $m$ e $n$).</p>"
   ]
  },
  {
   "cell_type": "code",
   "execution_count": null,
   "metadata": {},
   "outputs": [],
   "source": [
    "m = int(input(\"Digite um número inteiro positivo:\"))\n",
    "n = int(input(\"Digite outro número inteiro positivo:\"))\n",
    "if m > n: \n",
    "    print(list(range(n,m+1)))\n",
    "else:\n",
    "    print(list(range(m,n+1)))"
   ]
  },
  {
   "cell_type": "markdown",
   "metadata": {},
   "source": [
    "<h2>Questão 8</h2>\n",
    "\n",
    "<p>Faça um programa que implemente a Fórmula de Bhaskara (se você esqueceu, use o Google) para resolver equações de segundo grau, isto é, equações do tipo\n",
    "$$ a x^2 + b x + c = 0.$$</p>\n",
    "\n",
    "<p><b>Entrada:</b> O programa deve receber os valores $a$, $b$ e $c$, nessa ordem (decimais).</p>\n",
    "\n",
    "<p><b>Saída:</b> A resposta consistirá de uma, duas ou três linhas. A primeira (que sempre existe) deve conter um texto dizendo quantas soluções existem (pode ser 0, 1 ou 2). Se houver solução, as próximas linhas devem indicar seus valores. </p>"
   ]
  },
  {
   "cell_type": "code",
   "execution_count": null,
   "metadata": {},
   "outputs": [],
   "source": [
    "a = float(input(\"Digite um valor para a diferente de 0:\"))\n",
    "b = float(input(\"Digite um valor para b:\"))\n",
    "c = float(input(\"Digite um valor para c:\"))\n",
    "delta = b**2 - 4 * a * c\n",
    "if delta > 0:\n",
    "    x1 = (-b + delta**0.5)/2*a\n",
    "    x2 = (-b - delta**0.5)/2*a\n",
    "    print(\"Existem 2 soluções para a equação.\")\n",
    "    print(\"As soluções são:\", x1, \"e\", x2)\n",
    "elif delta == 0:\n",
    "    x1 = (-b + delta**0.5)/2*a\n",
    "    x2 = (-b - delta**0.5)/2*a\n",
    "    print(\"Existe 2 soluções iguais no universo dos reais.\")\n",
    "    print(\"E as soluções são:\", x1, \"e\", x2)\n",
    "else:\n",
    "    print(\"Existem 0 soluções no universo dos reais para a equação.\")"
   ]
  },
  {
   "cell_type": "markdown",
   "metadata": {},
   "source": [
    "<h2>Questão 9</h2>\n",
    "\n",
    "<p>Construa uma calculadora que efetue operações aritméticas binárias (entre dois números).</p>\n",
    "\n",
    "<p><b>Entrada:</b> O programa deve receber um valor inteiro qualquer, seguido de um operador (que pode ser `+` para soma, `-` para subtração, `*` para multiplicação, `/` para divisão inteira, `%` para resto de divisão, ou `^` para exponenciação), seguido de outro número inteiro qualquer. </p>\n",
    "\n",
    "<p><b>Saída:</b> A resposta deverá ser um único número inteiro, resultado da operação dada na entrada, ou a mensagem `erro` se não for possível realizar a conta (divisões por zero).</p>"
   ]
  },
  {
   "cell_type": "code",
   "execution_count": null,
   "metadata": {},
   "outputs": [],
   "source": [
    "valor1 = int(input(\"Digite um valor:\"))\n",
    "operador = input(\"Digite um operador:\")\n",
    "valor2 = int(input(\"Digite outro valor:\"))\n",
    "if operador == \"+\":\n",
    "    print(\"O resultado é:\", valor1 + valor2)\n",
    "elif operador == \"-\":\n",
    "    print(\"O resultado é:\", valor1 - valor2)\n",
    "elif operador == \"*\":\n",
    "    print(\"O resultado é:\", valor1 * valor2)\n",
    "elif operador == \"/\":\n",
    "    if valor2 ==0: \n",
    "        print(\"Erro, não é possível realizar a operação.\")\n",
    "    else:\n",
    "        print(\"O resultado é:\", valor1 / valor2)\n",
    "elif operador == \"%\":\n",
    "    print(\"O resultado é:\", valor1 % valor2)\n",
    "elif operador == \"^\":\n",
    "    print(\"O resultado é:\", valor1** valor2)"
   ]
  }
 ],
 "metadata": {
  "kernelspec": {
   "display_name": "Python 3",
   "language": "python",
   "name": "python3"
  },
  "language_info": {
   "codemirror_mode": {
    "name": "ipython",
    "version": 3
   },
   "file_extension": ".py",
   "mimetype": "text/x-python",
   "name": "python",
   "nbconvert_exporter": "python",
   "pygments_lexer": "ipython3",
   "version": "3.7.3"
  }
 },
 "nbformat": 4,
 "nbformat_minor": 1
}
