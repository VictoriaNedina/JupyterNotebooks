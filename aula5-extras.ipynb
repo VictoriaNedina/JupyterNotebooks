{
 "cells": [
  {
   "cell_type": "markdown",
   "metadata": {},
   "source": [
    "# Exercícios (não precisam ser entregues)\n",
    "\n",
    "Essa lista de exercícios é extra, para você treinar mais para a primeira prova."
   ]
  },
  {
   "cell_type": "markdown",
   "metadata": {},
   "source": [
    "## Questão 1\n",
    "\n",
    "Escreva um programa que receba três valores e, caso eles formem um triângulo, decida se ele é retângulo,  isósceles, equilátero, escaleno, ou nenhum dos anteriores. Seu programa deve lidar com a possibilidade de os números lidos serem negativos. Note que um triângulo pode se encaixar em mais de uma dessas categorias.\n",
    "\n",
    "**Entrada:** O programa deve receber três números decimais.\n",
    "\n",
    "**Saída:** A resposta pode consistir de uma ou mais linhas, cada uma contendo apenas uma das cinco opções a seguir, de acordo com os valores dados: `Triângulo retângulo`, `Triângulo isósceles`, `Triângulo equilátero`,  `Triângulo escaleno` ou `Não é triângulo`."
   ]
  },
  {
   "cell_type": "code",
   "execution_count": null,
   "metadata": {},
   "outputs": [],
   "source": []
  },
  {
   "cell_type": "markdown",
   "metadata": {},
   "source": [
    "## Questão 2\n",
    "\n",
    "Suponha que seu computador consiga executar somente operações de soma, subtração e multiplicação. Faça um programa que calcule $a^b$ (sem utilizar `**`, portanto).\n",
    "\n",
    "**Entrada:** O programa deverá receber dois números inteiros, $a$ e $b$, respectivamente, com $a \\neq 0$ e $b \\geq 0$.\n",
    "\n",
    "**Saída:** A saída consistirá de uma única linha, contendo um único número, resultado de $a^b$."
   ]
  },
  {
   "cell_type": "code",
   "execution_count": null,
   "metadata": {},
   "outputs": [],
   "source": []
  },
  {
   "cell_type": "markdown",
   "metadata": {},
   "source": [
    "## Questão 3\n",
    "\n",
    "Um número inteiro positivo é dito perfeito se a soma dos seus divisores positivos (excluindo ele mesmo) é igual ao próprio número. Por exemplo, 6 é perfeito pois $1+2+3=6$. Faça um programa que determine se um dado número é perfeito.\n",
    "\n",
    "**Entrada:** O programa deve receber um único número inteiro $n$, com $n \\geq 1$.\n",
    "\n",
    "**Saída:** A resposta consistirá de uma única linha, contendo a palavra `Sim`, se $n$ for perfeito, e `Não`, caso contrário."
   ]
  },
  {
   "cell_type": "code",
   "execution_count": null,
   "metadata": {},
   "outputs": [],
   "source": []
  },
  {
   "cell_type": "markdown",
   "metadata": {},
   "source": [
    "## Questão 4\n",
    "\n",
    "Faça um programa que calcule a média ponderada de $n$ números de acordo com a fórmula\n",
    "$$\\frac{\\sum_{i=1}^n p_i x_i}{\\sum_{i=1}^n p_i}.$$\n",
    "\n",
    "**Entrada:** O programa deve receber inicialmente um inteiro positivo $n$.\n",
    "Em seguida, deve receber $n$ pares de números reais $p_i$ e $x_i$.\n",
    "\n",
    "**Saída:** A resposta consistirá de uma única linha, contendo apenas um valor real que é a média ponderada dos valores lidos, de acordo com a fórmula acima."
   ]
  },
  {
   "cell_type": "code",
   "execution_count": null,
   "metadata": {},
   "outputs": [],
   "source": []
  },
  {
   "cell_type": "markdown",
   "metadata": {},
   "source": [
    "## Questão 5\n",
    "\n",
    "Faça um programa que teste se uma sequência de números é crescente ou não. Não use nada para armazenar os números.\n",
    "\n",
    "**Entrada:** O programa deve receber $n$ números inteiros.\n",
    "\n",
    "**Saída:** A resposta consistirá de uma única linha, contendo a palavra `Sim`, se a sequência de números for crescente, e `Não`, caso contrário."
   ]
  },
  {
   "cell_type": "code",
   "execution_count": null,
   "metadata": {},
   "outputs": [],
   "source": []
  },
  {
   "cell_type": "markdown",
   "metadata": {},
   "source": [
    "## Questão 6\n",
    "\n",
    "Leia um par de inteiros $m$ e $n$, mostre a sequência de inteiros que existem do menor até o maior deles e mostre também a soma desses inteiros (incluindo o $m$ e o $n$).\n",
    "\n",
    "**Entrada:** O programa deve receber dois inteiros $m$ e $n$, com $m > 0$ e $n > 0$.\n",
    "\n",
    "**Saída:** A resposta consiste de uma única linha, contendo os inteiros entre $\\min\\{m,n\\}$ e $\\max\\{m,n\\}$, seguido da mensagem `Soma = X`, onde X deve ser corretamente substituı́do pela soma dos valores inteiros entre os dois lidos.\n",
    "\n",
    "Exemplo: se $m=9$ e $n=3$, então a saída deve ser `3 4 5 6 7 8 9 Soma = 42`."
   ]
  },
  {
   "cell_type": "code",
   "execution_count": null,
   "metadata": {},
   "outputs": [],
   "source": []
  }
 ],
 "metadata": {
  "kernelspec": {
   "display_name": "Python 3",
   "language": "python",
   "name": "python3"
  },
  "language_info": {
   "codemirror_mode": {
    "name": "ipython",
    "version": 3
   },
   "file_extension": ".py",
   "mimetype": "text/x-python",
   "name": "python",
   "nbconvert_exporter": "python",
   "pygments_lexer": "ipython3",
   "version": "3.5.2"
  }
 },
 "nbformat": 4,
 "nbformat_minor": 1
}
